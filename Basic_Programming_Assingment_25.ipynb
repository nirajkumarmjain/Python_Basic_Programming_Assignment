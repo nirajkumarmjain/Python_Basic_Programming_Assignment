{
 "cells": [
  {
   "cell_type": "markdown",
   "metadata": {},
   "source": [
    "## Basic_Programming_Assingment_25 "
   ]
  },
  {
   "cell_type": "markdown",
   "metadata": {},
   "source": [
    "1.Create a function that takes three integer arguments (a, b, c) and returns the amount of integers which are of equal value.\n",
    "\n",
    "Examples:\n",
    "\n",
    "equal(3, 4, 3) ➞ 2\n",
    "    \n",
    "equal(1, 1, 1) ➞ 3\n",
    "\n",
    "equal(3, 4, 1) ➞ 0\n",
    "\n",
    "Notes:\n",
    "Your function must return 0, 2 or 3."
   ]
  },
  {
   "cell_type": "code",
   "execution_count": 4,
   "metadata": {},
   "outputs": [
    {
     "name": "stdout",
     "output_type": "stream",
     "text": [
      "equal(3, 4, 3) ➞ 2\n",
      "equal(1, 1, 1) ➞ 3\n",
      "equal(3, 4, 1) ➞ 0\n"
     ]
    }
   ],
   "source": [
    "def equal(a,b,c):\n",
    "    inp_list = [a,b,c]\n",
    "    out = 0\n",
    "    for ele in inp_list:\n",
    "        if inp_list.count(ele) > 1:\n",
    "            out = inp_list.count(ele)\n",
    "    print(f\"equal{a,b,c} ➞ {out}\")\n",
    "    \n",
    "equal(3,4,3)\n",
    "equal(1,1,1)\n",
    "equal(3,4,1)"
   ]
  },
  {
   "cell_type": "markdown",
   "metadata": {},
   "source": [
    "2.Write a function that converts a dictionary into a list of keys-values tuples.\n",
    "\n",
    "Examples:\n",
    "\n",
    "dict_to_list({\n",
    "    \"D\": 1,\n",
    "    \"B\": 2,\n",
    "    \"C\": 3\n",
    "    }) ➞ [(\"B\", 2), (\"C\", 3), (\"D\", 1)]  \n",
    "\n",
    "dict_to_list({\n",
    "    \"likes\": 2,\n",
    "    \"dislikes\": 3,\n",
    "    \"followers\": 10\n",
    "    }) ➞ [(\"dislikes\", 3), (\"followers\", 10), (\"likes\", 2)]\n",
    "\n",
    "Notes:\n",
    "Return the elements in the list in alphabetical order."
   ]
  },
  {
   "cell_type": "code",
   "execution_count": 8,
   "metadata": {},
   "outputs": [
    {
     "name": "stdout",
     "output_type": "stream",
     "text": [
      "dict_to_list({'D': 1, 'B': 2, 'C': 3}) ➞ [('B', 2), ('C', 3), ('D', 1)]\n",
      "dict_to_list({'likes': 2, 'dislikes': 3, 'followers': 10}) ➞ [('dislikes', 3), ('followers', 10), ('likes', 2)]\n"
     ]
    }
   ],
   "source": [
    "def dict_to_list(inp):\n",
    "    out = []\n",
    "    for key,value in inp.items():\n",
    "        out.append((key,value))\n",
    "    print(f\"dict_to_list({inp}) ➞ {sorted(out)}\")\n",
    "    \n",
    "dict_to_list({ \"D\": 1, \"B\": 2, \"C\": 3 })\n",
    "dict_to_list({ \"likes\": 2, \"dislikes\": 3, \"followers\": 10 })"
   ]
  },
  {
   "cell_type": "code",
   "execution_count": null,
   "metadata": {},
   "outputs": [],
   "source": []
  },
  {
   "cell_type": "markdown",
   "metadata": {},
   "source": [
    "3.Write a function that creates a dictionary with each (key, value) pair being the (lower case, upper case) versions of a letter, respectively.\n",
    "\n",
    "Examples:\n",
    "\n",
    "`mapping([\"p\", \"s\"]) ➞ { \"p\": \"P\", \"s\": \"S\" }\n",
    "mapping([\"a\", \"b\", \"c\"]) ➞ { \"a\": \"A\", \"b\": \"B\", \"c\": \"C\" }\n",
    "mapping([\"a\", \"v\", \"y\", \"z\"]) ➞ { \"a\": \"A\", \"v\": \"V\", \"y\": \"Y\", \"z\": \"Z\" }`\n",
    "\n",
    "Notes:\n",
    "    \n",
    "All of the letters in the input list will always be lowercase."
   ]
  },
  {
   "cell_type": "code",
   "execution_count": 11,
   "metadata": {},
   "outputs": [
    {
     "name": "stdout",
     "output_type": "stream",
     "text": [
      "mapping(['p', 's']) ➞ {'p': 'P', 's': 'S'}\n",
      "mapping(['a', 'b', 'c']) ➞ {'a': 'A', 'b': 'B', 'c': 'C'}\n",
      "mapping(['a', 'v', 'y', 'z']) ➞ {'a': 'A', 'v': 'V', 'y': 'Y', 'z': 'Z'}\n"
     ]
    }
   ],
   "source": [
    "def mapping(inp):\n",
    "    out_dict = {ele : ele.upper() for ele in inp}\n",
    "    print(f\"mapping({inp}) ➞ {out_dict}\")\n",
    "    \n",
    "mapping([\"p\", \"s\"])\n",
    "mapping([\"a\", \"b\", \"c\"])\n",
    "mapping([\"a\", \"v\", \"y\", \"z\"]) "
   ]
  },
  {
   "cell_type": "code",
   "execution_count": null,
   "metadata": {},
   "outputs": [],
   "source": []
  },
  {
   "cell_type": "markdown",
   "metadata": {},
   "source": [
    "4.Write a function, that replaces all vowels in a string with a specified vowel.\n",
    "\n",
    "Examples:\n",
    "\n",
    "vow_replace(\"apples and bananas\", \"u\") ➞ \"upplus und bununus\"\n",
    "\n",
    "vow_replace(\"cheese casserole\", \"o\") ➞ \"chooso cossorolo\"\n",
    "\n",
    "vow_replace(\"stuffed jalapeno poppers\", \"e\") ➞ \"steffed jelepene peppers\"\n",
    "\n",
    "Notes:\n",
    "All words will be lowercase. Y is not considered a vowel."
   ]
  },
  {
   "cell_type": "code",
   "execution_count": 16,
   "metadata": {},
   "outputs": [
    {
     "name": "stdout",
     "output_type": "stream",
     "text": [
      "vow_replace('apples and bananas', 'u') ➞ upplus und bununus\n",
      "vow_replace('cheese casserole', 'o') ➞ chooso cossorolo\n",
      "vow_replace('stuffed jalapeno poppers', 'e') ➞ steffed jelepene peppers\n"
     ]
    }
   ],
   "source": [
    "def vow_replace(inp,replacement):\n",
    "    vowels = ['a','e','i','o','u']\n",
    "    out = inp.lower()\n",
    "    for ele in out:\n",
    "        if ele in vowels:\n",
    "            out = out.replace(ele,replacement)\n",
    "    print(f\"vow_replace{inp,replacement} ➞ {out}\")    \n",
    "        \n",
    "vow_replace(\"apples and bananas\", \"u\") \n",
    "vow_replace(\"cheese casserole\", \"o\")\n",
    "vow_replace(\"stuffed jalapeno poppers\", \"e\")"
   ]
  },
  {
   "cell_type": "code",
   "execution_count": null,
   "metadata": {},
   "outputs": [],
   "source": []
  },
  {
   "cell_type": "markdown",
   "metadata": {},
   "source": [
    "5.Create a function that takes a string as input and capitalizes a letter if its ASCII code is even and returns its lower case version if its ASCII code is odd.\n",
    "\n",
    "Examples:\n",
    "\n",
    "`ascii_capitalize(\"to be or not to be!\") ➞ \"To Be oR NoT To Be!\"\n",
    "ascii_capitalize(\"THE LITTLE MERMAID\") ➞ \"THe LiTTLe meRmaiD\"\n",
    "ascii_capitalize(\"Oh what a beautiful morning.\") ➞ \"oH wHaT a BeauTiFuL moRNiNg.\"`"
   ]
  },
  {
   "cell_type": "code",
   "execution_count": 22,
   "metadata": {},
   "outputs": [
    {
     "name": "stdout",
     "output_type": "stream",
     "text": [
      "to be or not to be! ➞ To Be oR NoT To Be!\n",
      "THE LITTLE MERMAID ➞ THe LiTTLe meRmaiD\n",
      "Oh what a beautiful morning. ➞ oH wHaT a BeauTiFuL moRNiNg.\n"
     ]
    }
   ],
   "source": [
    "def ascii_capitalize(inp):\n",
    "    out = ''\n",
    "    for ele in inp.lower():\n",
    "        if (ord(ele)%2 == 0):\n",
    "            out += ele.upper()\n",
    "        else:\n",
    "            out += ele\n",
    "    print(f'{inp} ➞ {out}')\n",
    "        \n",
    "ascii_capitalize(\"to be or not to be!\")\n",
    "ascii_capitalize(\"THE LITTLE MERMAID\")\n",
    "ascii_capitalize(\"Oh what a beautiful morning.\")"
   ]
  },
  {
   "cell_type": "code",
   "execution_count": null,
   "metadata": {},
   "outputs": [],
   "source": []
  }
 ],
 "metadata": {
  "kernelspec": {
   "display_name": "Python 3",
   "language": "python",
   "name": "python3"
  },
  "language_info": {
   "codemirror_mode": {
    "name": "ipython",
    "version": 3
   },
   "file_extension": ".py",
   "mimetype": "text/x-python",
   "name": "python",
   "nbconvert_exporter": "python",
   "pygments_lexer": "ipython3",
   "version": "3.7.4"
  }
 },
 "nbformat": 4,
 "nbformat_minor": 2
}
