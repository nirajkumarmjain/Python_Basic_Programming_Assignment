{
 "cells": [
  {
   "cell_type": "markdown",
   "metadata": {},
   "source": [
    "# Basic_Programming_Assingment8"
   ]
  },
  {
   "cell_type": "markdown",
   "metadata": {},
   "source": [
    "1. Write a Python Program to Add Two Matrices?"
   ]
  },
  {
   "cell_type": "code",
   "execution_count": 80,
   "metadata": {},
   "outputs": [
    {
     "name": "stdout",
     "output_type": "stream",
     "text": [
      "Creating mat[0] as \n",
      "[[91  8 40]\n",
      " [ 2 35  1]\n",
      " [ 1 43 97]]\n",
      "Creating mat[1] as \n",
      "[[16 47 81]\n",
      " [51 94 25]\n",
      " [48 18  8]]\n",
      "The sum is \n",
      "[[107  55 121]\n",
      " [ 53 129  26]\n",
      " [ 49  61 105]]\n"
     ]
    }
   ],
   "source": [
    "import numpy as np\n",
    "\n",
    "def matAddition(n,d):\n",
    "    \"\"\"n represents total matrices to be created; d represents the dimension of each matrix\"\"\"\n",
    "    mat = [] #Creating Empty List to store n matrices and each of dimension dxd\n",
    "    for i in range(n):\n",
    "        mat.append(np.random.randint(1,100,(d,d)))\n",
    "        print(f\"Creating mat[{i}] as \\n{mat[i]}\")\n",
    "    print(f\"The sum is \\n{sum(mat)}\")\n",
    "    \n",
    "matAddition(2,3)"
   ]
  },
  {
   "cell_type": "markdown",
   "metadata": {},
   "source": [
    "2. Write a Python Program to Multiply Two Matrices?"
   ]
  },
  {
   "cell_type": "code",
   "execution_count": 113,
   "metadata": {},
   "outputs": [
    {
     "name": "stdout",
     "output_type": "stream",
     "text": [
      "The matrix multiplication of \n",
      "[[627 304 955]\n",
      " [311  45 924]\n",
      " [587 825 951]] \n",
      "\n",
      "and \n",
      "\n",
      "[[44  5 12]\n",
      " [95 44 90]\n",
      " [14 85 79]] \n",
      "\n",
      "is \n",
      "\n",
      "[[ 69838  97686 110329]\n",
      " [ 30895  82075  80778]\n",
      " [117517 120070 156423]]\n"
     ]
    }
   ],
   "source": [
    "import numpy as np\n",
    "\n",
    "def matMultiply():\n",
    "    mat1 = np.random.randint(2,1000,(3,3))\n",
    "    mat2 = np.random.randint(1,100,(3,3))\n",
    "    print(f\"The matrix multiplication of \\n{mat1} \\n\\nand \\n\\n{mat2} \\n\\nis \\n\\n{mat1@mat2}\")\n",
    "    \n",
    "matMultiply()"
   ]
  },
  {
   "cell_type": "markdown",
   "metadata": {},
   "source": [
    "3. Write a Python Program to Transpose a Matrix?"
   ]
  },
  {
   "cell_type": "code",
   "execution_count": 127,
   "metadata": {},
   "outputs": [
    {
     "name": "stdout",
     "output_type": "stream",
     "text": [
      "The transpose of \n",
      "\n",
      "[[501 332 855]\n",
      " [ 74 897 178]\n",
      " [364 868 637]] is\n",
      "\n",
      "[[501  74 364]\n",
      " [332 897 868]\n",
      " [855 178 637]]\n"
     ]
    }
   ],
   "source": [
    "import numpy as np\n",
    "\n",
    "def matTranspose():\n",
    "    mat1 =np.random.randint(2,1000,(3,3))\n",
    "    mat2 = np.ndarray.transpose(mat1)\n",
    "    print(f\"The transpose of \\n\\n{mat1} is\\n\\n{mat2}\")\n",
    "\n",
    "matTranspose()"
   ]
  },
  {
   "cell_type": "markdown",
   "metadata": {},
   "source": [
    "4. Write a Python Program to Sort Words in Alphabetic Order?"
   ]
  },
  {
   "cell_type": "code",
   "execution_count": 19,
   "metadata": {},
   "outputs": [],
   "source": [
    "def wordSort():\n",
    "    n = int(input(\"Enter how many words you would like to sort: \"))\n",
    "    inp = []\n",
    "    i=0\n",
    "    while i < n:\n",
    "        inp.append(input(\"Enter a word: \"))\n",
    "        i = i + 1\n",
    "    print(f\"Your input was {inp}\",end=\" and after sorting the output is:\")\n",
    "    inp.sort()\n",
    "    print(inp)"
   ]
  },
  {
   "cell_type": "code",
   "execution_count": 18,
   "metadata": {},
   "outputs": [
    {
     "name": "stdout",
     "output_type": "stream",
     "text": [
      "Enter how many words you would like to sort: 2\n",
      "Enter a word: niraj\n",
      "Enter a word: kumar\n",
      "Your input was ['niraj', 'kumar'] and after sorting the output is:['kumar', 'niraj']\n"
     ]
    }
   ],
   "source": [
    "wordSort()"
   ]
  },
  {
   "cell_type": "markdown",
   "metadata": {},
   "source": [
    "5. Write a Python Program to Remove Punctuation From a String?"
   ]
  },
  {
   "cell_type": "code",
   "execution_count": 21,
   "metadata": {},
   "outputs": [],
   "source": [
    "def removePunctuations():\n",
    "    inp = input(\"Enter input string with punctuations: \")\n",
    "    punc = '''!()-[]{};:'\"\\,<>./?@#$%^&*_~''' # initializing punctuations string\n",
    "    print(\"Your input was \"+ inp)\n",
    "    for ele in inp:\n",
    "        if ele in punc:\n",
    "            inp = inp.replace(ele,\"\")\n",
    "    print(\"Your output after removing punctuations is \"+inp)"
   ]
  },
  {
   "cell_type": "code",
   "execution_count": 23,
   "metadata": {},
   "outputs": [
    {
     "name": "stdout",
     "output_type": "stream",
     "text": [
      "Enter input string with punctuations: \"iNeuron is the best! There are various course's\"\n",
      "Your input was \"iNeuron is the best! There are various course's\"\n",
      "Your output after removing punctuations is iNeuron is the best There are various courses\n"
     ]
    }
   ],
   "source": [
    "removePunctuations()"
   ]
  },
  {
   "cell_type": "code",
   "execution_count": null,
   "metadata": {},
   "outputs": [],
   "source": []
  }
 ],
 "metadata": {
  "kernelspec": {
   "display_name": "Python 3",
   "language": "python",
   "name": "python3"
  },
  "language_info": {
   "codemirror_mode": {
    "name": "ipython",
    "version": 3
   },
   "file_extension": ".py",
   "mimetype": "text/x-python",
   "name": "python",
   "nbconvert_exporter": "python",
   "pygments_lexer": "ipython3",
   "version": "3.7.4"
  }
 },
 "nbformat": 4,
 "nbformat_minor": 2
}
