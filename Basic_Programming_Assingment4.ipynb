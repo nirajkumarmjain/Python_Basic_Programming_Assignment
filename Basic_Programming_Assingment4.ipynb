{
 "cells": [
  {
   "cell_type": "markdown",
   "metadata": {},
   "source": [
    "# Basic_Programming_Assingment4"
   ]
  },
  {
   "cell_type": "code",
   "execution_count": 16,
   "metadata": {},
   "outputs": [
    {
     "name": "stdout",
     "output_type": "stream",
     "text": [
      "1.Write a Python Program to Find the Factorial of a Number?\n",
      "\n",
      "Solution:\n",
      "\n",
      "Enter a number for which factorial needs to be determited: 5\n",
      "Factorial of 5 is 120\n"
     ]
    }
   ],
   "source": [
    "print(\"1.Write a Python Program to Find the Factorial of a Number?\\n\")\n",
    "print(\"Solution:\\n\")\n",
    "\n",
    "inp=int(input(\"Enter a number for which factorial needs to be determited: \"))\n",
    "\n",
    "def factorial(n):\n",
    "    \"\"\"This function returns factorial of input number\"\"\"\n",
    "    f=1\n",
    "    if n < 0:\n",
    "        print(\"Factorial for negative number cannot be determined\")\n",
    "    elif n == 0:\n",
    "        print(\"Factorial of 0 is 1\")\n",
    "    else:\n",
    "        for i in range(1,n+1):\n",
    "            f=f*i\n",
    "        print(\"Factorial of {} is {}\".format(n,f))\n",
    "            \n",
    "factorial(inp)\n",
    "        "
   ]
  },
  {
   "cell_type": "code",
   "execution_count": 21,
   "metadata": {},
   "outputs": [
    {
     "name": "stdout",
     "output_type": "stream",
     "text": [
      "2.Write a Python Program to Display the multiplication Table?\n",
      "\n",
      "Solution:\n",
      "\n",
      "Enter a number for which multiplication table needs to be displayed: 9\n",
      "9 x 1 is :9\n",
      "9 x 2 is :18\n",
      "9 x 3 is :27\n",
      "9 x 4 is :36\n",
      "9 x 5 is :45\n",
      "9 x 6 is :54\n",
      "9 x 7 is :63\n",
      "9 x 8 is :72\n",
      "9 x 9 is :81\n",
      "9 x 10 is :90\n"
     ]
    }
   ],
   "source": [
    "print(\"2.Write a Python Program to Display the multiplication Table?\\n\")\n",
    "print(\"Solution:\\n\")\n",
    "\n",
    "inp=int(input(\"Enter a number for which multiplication table needs to be displayed: \"))\n",
    "\n",
    "def multiplication(n):\n",
    "    \"\"\"This function returns multiplication table of input number\"\"\"\n",
    "    for i in range(1,11):\n",
    "        print(\"{} x {} is :{}\".format(n,i,n*i))\n",
    "\n",
    "multiplication(inp)"
   ]
  },
  {
   "cell_type": "code",
   "execution_count": 24,
   "metadata": {},
   "outputs": [
    {
     "name": "stdout",
     "output_type": "stream",
     "text": [
      "3.Write a Python Program to Print the Fibonacci sequence?\n",
      "\n",
      "Solution:\n",
      "\n",
      "Enter how many fibonacci sequence to be generated: 10\n",
      "The fibonacci sequence is: \n",
      "0\n",
      "1\n",
      "1\n",
      "2\n",
      "3\n",
      "5\n",
      "8\n",
      "13\n",
      "21\n",
      "34\n"
     ]
    }
   ],
   "source": [
    "print(\"3.Write a Python Program to Print the Fibonacci sequence?\\n\")\n",
    "print(\"Solution:\\n\")\n",
    "\n",
    "inp=int(input(\"Enter how many fibonacci sequence to be generated: \"))\n",
    "\n",
    "def fibo(n):\n",
    "    \"\"\"This function generates fibonacci sequence\"\"\"\n",
    "    a=0\n",
    "    b=1\n",
    "    print(\"The fibonacci sequence is: \")\n",
    "    for i in range(1,n+1):\n",
    "        print(a)\n",
    "        a,b=b,a+b\n",
    "        \n",
    "fibo(inp)\n"
   ]
  },
  {
   "cell_type": "code",
   "execution_count": 36,
   "metadata": {},
   "outputs": [
    {
     "name": "stdout",
     "output_type": "stream",
     "text": [
      "4. Write a Python Program to Check Armstrong Number?\n",
      "\n",
      "Solution:\n",
      "\n",
      "Enter a number to check if it is an Armstrong Number : 1634\n",
      "1634 is an armstrong number\n"
     ]
    }
   ],
   "source": [
    "print(\"4. Write a Python Program to Check Armstrong Number?\\n\")\n",
    "print(\"Solution:\\n\")\n",
    "\n",
    "inp=int(input(\"Enter a number to check if it is an Armstrong Number : \"))\n",
    "\n",
    "def armstrong(n):\n",
    "    \"\"\"This function checks if number is an armstrong number\"\"\"\n",
    "    total=0 \n",
    "    power=len(str(n)) #checking the total digits\n",
    "    temp = n\n",
    "    while temp > 0:\n",
    "        d = temp % 10 #Extracting individual digit from input number.\n",
    "        total = total+(d**power)\n",
    "        temp = temp//10 #Extracting remaining digits from input number.\n",
    "    if n==total:\n",
    "        print(\"{} is an armstrong number\".format(n))\n",
    "    else:\n",
    "        print(\"{} is not an armstrong number\".format(n))\n",
    "    \n",
    "armstrong(inp)"
   ]
  },
  {
   "cell_type": "code",
   "execution_count": 41,
   "metadata": {},
   "outputs": [
    {
     "name": "stdout",
     "output_type": "stream",
     "text": [
      "5. Write a Python Program to Find Armstrong Number in an Interval?\n",
      "\n",
      "Solution:\n",
      "\n",
      "Enter an interval upto which Armstrong number needs to be determined : 2000\n",
      "The armstrong numbers upto 2000 : [1, 2, 3, 4, 5, 6, 7, 8, 9, 153, 370, 371, 407, 1634]\n"
     ]
    }
   ],
   "source": [
    "print(\"5. Write a Python Program to Find Armstrong Number in an Interval?\\n\")\n",
    "print(\"Solution:\\n\")\n",
    "\n",
    "inp=int(input(\"Enter an interval upto which Armstrong number needs to be determined : \"))\n",
    "l=[] #List to store Armstrong Numbers\n",
    "\n",
    "def armstrong(n):\n",
    "    \"\"\"This function checks if number is an armstrong number\"\"\"\n",
    "    total=0 \n",
    "    power=len(str(n)) #checking the total digits to determine the power\n",
    "    temp = n\n",
    "    while temp > 0:\n",
    "        d = temp % 10 #Extracting individual digit from input number.\n",
    "        total = total+(d**power)\n",
    "        temp = temp//10 #Extracting remaining digits from input number.\n",
    "    if n==total:\n",
    "        l.append(n)\n",
    "\n",
    "for i in range(1,inp+1):\n",
    "    armstrong(i)\n",
    "    \n",
    "print(\"The armstrong numbers upto\",inp,\":\",l)"
   ]
  },
  {
   "cell_type": "code",
   "execution_count": 44,
   "metadata": {},
   "outputs": [
    {
     "name": "stdout",
     "output_type": "stream",
     "text": [
      "Write a Python Program to Find the Sum of Natural Numbers?\n",
      "\n",
      "Solution:\n",
      "\n",
      "Enter a natural number >0 upto which sum needs to be determined : 100\n",
      "The sum of natural numbers upto 100 is 5050\n"
     ]
    }
   ],
   "source": [
    "print(\"Write a Python Program to Find the Sum of Natural Numbers?\\n\")\n",
    "print(\"Solution:\\n\")\n",
    "inp=int(input(\"Enter a natural number >0 upto which sum needs to be determined : \"))\n",
    "\n",
    "def naturalSum(n):\n",
    "    total=0 #initializing sum with zero\n",
    "\n",
    "    if n < 0:\n",
    "        print(\"Please try again with positive integer number!\")\n",
    "    else:\n",
    "        for i in range(1,n+1):\n",
    "            total = total+i\n",
    "\n",
    "    return total\n",
    "\n",
    "print(\"The sum of natural numbers upto {} is {}\".format(inp,naturalSum(inp)))\n",
    "        "
   ]
  },
  {
   "cell_type": "code",
   "execution_count": null,
   "metadata": {},
   "outputs": [],
   "source": []
  }
 ],
 "metadata": {
  "kernelspec": {
   "display_name": "Python 3",
   "language": "python",
   "name": "python3"
  },
  "language_info": {
   "codemirror_mode": {
    "name": "ipython",
    "version": 3
   },
   "file_extension": ".py",
   "mimetype": "text/x-python",
   "name": "python",
   "nbconvert_exporter": "python",
   "pygments_lexer": "ipython3",
   "version": "3.7.4"
  }
 },
 "nbformat": 4,
 "nbformat_minor": 2
}
