{
 "cells": [
  {
   "cell_type": "markdown",
   "metadata": {},
   "source": [
    "1. Write a Python program to find words which are greater than given length k?"
   ]
  },
  {
   "cell_type": "code",
   "execution_count": 8,
   "metadata": {},
   "outputs": [
    {
     "name": "stdout",
     "output_type": "stream",
     "text": [
      "Enter the list items : ineuron data science course is the best\n",
      "Enter the length 'k' for which words passing the criteria to be found: 4\n",
      "The words above 4 length are : ['ineuron', 'data', 'science', 'course', 'best']\n"
     ]
    }
   ],
   "source": [
    "lst = [item for item in input(\"Enter the list items : \").split()]\n",
    "k = int(input(\"Enter the length 'k' for which words passing the criteria to be found: \"))\n",
    "\n",
    "def findWord(lst,k):\n",
    "    outList = []\n",
    "    for item in lst:\n",
    "        if len(item) >= k:\n",
    "            outList.append(item)\n",
    "    print(f\"The words above {k} length are : {outList}\")\n",
    "    \n",
    "findWord(lst,k)"
   ]
  },
  {
   "cell_type": "code",
   "execution_count": null,
   "metadata": {},
   "outputs": [],
   "source": []
  },
  {
   "cell_type": "markdown",
   "metadata": {},
   "source": [
    "2. Write a Python program for removing i-th character from a string?"
   ]
  },
  {
   "cell_type": "code",
   "execution_count": 36,
   "metadata": {},
   "outputs": [
    {
     "name": "stdout",
     "output_type": "stream",
     "text": [
      "Enter the list items : ineuron data science course is the best\n",
      "Enter the index which needs to be removed from each word of list: 2\n",
      "The words after removing 6th character from initial word are : ['inuron', 'daa', 'scence', 'corse', 'is', 'th', 'bet']\n"
     ]
    }
   ],
   "source": [
    "lst = [item for item in input(\"Enter the list items : \").split()]\n",
    "k = int(input(\"Enter the index which needs to be removed from each word of list: \"))\n",
    "\n",
    "def removeCharacter(lst,k):\n",
    "    for i in range(len(lst)):\n",
    "        if len(lst[i]) > k:\n",
    "            lst[i] = lst[i][0:k] + lst[i][k+1:]\n",
    "            #outList.append(item)\n",
    "    print(f\"The words after removing {i}th character from initial word are : {lst}\")\n",
    "    \n",
    "removeCharacter(lst,k)"
   ]
  },
  {
   "cell_type": "code",
   "execution_count": null,
   "metadata": {},
   "outputs": [],
   "source": []
  },
  {
   "cell_type": "markdown",
   "metadata": {},
   "source": [
    "3. Write a Python program to split and join a string?"
   ]
  },
  {
   "cell_type": "code",
   "execution_count": 39,
   "metadata": {},
   "outputs": [
    {
     "name": "stdout",
     "output_type": "stream",
     "text": [
      "Enter the string: ineuron data science course is the best\n",
      "Enter the delimiter to join the splitted string: #\n",
      "The string input was split into list of words as \n",
      "['ineuron', 'data', 'science', 'course', 'is', 'the', 'best']\n",
      "Output string after using delimiter # is :ineuron#data#science#course#is#the#best\n"
     ]
    }
   ],
   "source": [
    "inp = input(\"Enter the string: \")\n",
    "delim = input(\"Enter the delimiter to join the splitted string: \")\n",
    "\n",
    "def splitJoinString(inp,delim):\n",
    "    out = inp.split(\" \")\n",
    "    print(f\"The string input was split into list of words as \\n{out}\")\n",
    "    out1 = delim.join(out)\n",
    "    print(f\"Output string after using delimiter {delim} is :{out1}\")\n",
    "    \n",
    "splitJoinString(inp,delim)"
   ]
  },
  {
   "cell_type": "code",
   "execution_count": null,
   "metadata": {},
   "outputs": [],
   "source": []
  },
  {
   "cell_type": "markdown",
   "metadata": {},
   "source": [
    "4. Write a Python to check if a given string is binary string or not?"
   ]
  },
  {
   "cell_type": "code",
   "execution_count": 17,
   "metadata": {},
   "outputs": [
    {
     "name": "stdout",
     "output_type": "stream",
     "text": [
      "Enter the string: 10100001100\n",
      "The given input 10100001100 is binary\n"
     ]
    }
   ],
   "source": [
    "inp = input(\"Enter the string: \")\n",
    "\n",
    "def isbinaryString(inp):\n",
    "    setInp = set(inp)\n",
    "    binary = {\"0\",\"1\"}\n",
    "    if setInp == binary or setInp == {\"0\"} or setInp == {\"1\"}:\n",
    "        print(f\"The given input {inp} is binary\")\n",
    "    else:\n",
    "        print(f\"The given input {inp} is not binary\")\n",
    "        \n",
    "isbinaryString(inp)"
   ]
  },
  {
   "cell_type": "code",
   "execution_count": null,
   "metadata": {},
   "outputs": [],
   "source": []
  },
  {
   "cell_type": "markdown",
   "metadata": {},
   "source": [
    "5. Write a Python program to find uncommon words from two Strings?"
   ]
  },
  {
   "cell_type": "code",
   "execution_count": 49,
   "metadata": {},
   "outputs": [
    {
     "name": "stdout",
     "output_type": "stream",
     "text": [
      "Enter the string 1: data science is the future\n",
      "Enter the string 2: ineuron data science course is the best\n",
      "The uncommon words between 2 list are {'best', 'ineuron', 'course'}\n"
     ]
    }
   ],
   "source": [
    "inp1 = input(\"Enter the string 1: \")\n",
    "inp2 = input(\"Enter the string 2: \")\n",
    "\n",
    "def findUncommonstring(inp1,inp2):\n",
    "    inp1_set = set(inp1.split(\" \"))\n",
    "    inp2_set = set(inp2.split(\" \"))\n",
    "    out = set()\n",
    "    if len(inp1_set) >= len(inp2_set):\n",
    "        out = inp1_set - inp2_set\n",
    "    else:\n",
    "        out = inp2_set - inp1_set\n",
    "    print(f\"The uncommon words between 2 list are {out}\")\n",
    "    \n",
    "findUncommonstring(inp1,inp2)"
   ]
  },
  {
   "cell_type": "code",
   "execution_count": null,
   "metadata": {},
   "outputs": [],
   "source": []
  },
  {
   "cell_type": "markdown",
   "metadata": {},
   "source": [
    "6. Write a Python to find all duplicate characters in string?"
   ]
  },
  {
   "cell_type": "code",
   "execution_count": 59,
   "metadata": {},
   "outputs": [
    {
     "name": "stdout",
     "output_type": "stream",
     "text": [
      "Enter a string: ineuron data\n",
      "The duplicate characters inside the string are :{'n', 'a'}\n"
     ]
    }
   ],
   "source": [
    "inp = input(\"Enter a string: \")\n",
    "\n",
    "def duplicateCharacter(inp):\n",
    "    out = set()\n",
    "    for idx in inp:\n",
    "        if(inp.count(idx) > 1):\n",
    "            out.add(idx)\n",
    "    print(f\"The duplicate characters inside the string are :{out}\")\n",
    "    \n",
    "duplicateCharacter(inp)"
   ]
  },
  {
   "cell_type": "code",
   "execution_count": null,
   "metadata": {},
   "outputs": [],
   "source": []
  },
  {
   "cell_type": "markdown",
   "metadata": {},
   "source": [
    "7. Write a Python Program to check if a string contains any special character?"
   ]
  },
  {
   "cell_type": "code",
   "execution_count": 65,
   "metadata": {},
   "outputs": [
    {
     "name": "stdout",
     "output_type": "stream",
     "text": [
      "Enter a string: ineuron#data science$ is the best course@\n",
      "The string 'ineuron#data science$ is the best course@' contains following special characters:{'#', '@', '$'}\n"
     ]
    }
   ],
   "source": [
    "inp = input(\"Enter a string: \")\n",
    "\n",
    "def specialCharacter(inp):\n",
    "    special = set(list(\"[@_!#$%^&*()<>?/\\|}{~:]\"))\n",
    "    out = set()\n",
    "    for idx in inp:\n",
    "        if idx in special:\n",
    "            out.add(idx)\n",
    "    print(f\"The string '{inp}' contains following special characters:{out}\")\n",
    "    \n",
    "specialCharacter(inp)"
   ]
  }
 ],
 "metadata": {
  "kernelspec": {
   "display_name": "Python 3",
   "language": "python",
   "name": "python3"
  },
  "language_info": {
   "codemirror_mode": {
    "name": "ipython",
    "version": 3
   },
   "file_extension": ".py",
   "mimetype": "text/x-python",
   "name": "python",
   "nbconvert_exporter": "python",
   "pygments_lexer": "ipython3",
   "version": "3.7.4"
  }
 },
 "nbformat": 4,
 "nbformat_minor": 2
}
