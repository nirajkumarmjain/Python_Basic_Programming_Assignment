{
 "cells": [
  {
   "cell_type": "markdown",
   "metadata": {},
   "source": [
    "# Basic_Programming_Assingment7"
   ]
  },
  {
   "cell_type": "markdown",
   "metadata": {},
   "source": [
    "1. Write a Python Program to find sum of array?"
   ]
  },
  {
   "cell_type": "code",
   "execution_count": 5,
   "metadata": {},
   "outputs": [
    {
     "data": {
      "text/plain": [
       "'The sum of [1, 2, 3] is 6'"
      ]
     },
     "execution_count": 5,
     "metadata": {},
     "output_type": "execute_result"
    }
   ],
   "source": [
    "def arraySum(arr):\n",
    "    if type(arr) == list:\n",
    "        _sum = 0 \n",
    "        for i in arr:\n",
    "            _sum += i\n",
    "        return f\"The sum of {arr} is {_sum}\"\n",
    "    else:\n",
    "        return \"Please give input in list\"\n",
    "    \n",
    "arraySum([1,2,3])\n",
    "        "
   ]
  },
  {
   "cell_type": "markdown",
   "metadata": {},
   "source": [
    "2. Write a Python Program to find largest element in an array?"
   ]
  },
  {
   "cell_type": "code",
   "execution_count": 7,
   "metadata": {},
   "outputs": [
    {
     "data": {
      "text/plain": [
       "'The largest element in [1, 2, 3, 66, -1] is 66'"
      ]
     },
     "execution_count": 7,
     "metadata": {},
     "output_type": "execute_result"
    }
   ],
   "source": [
    "def arrayLargest(arr):\n",
    "    if type(arr) == list:\n",
    "        _max = arr[0]\n",
    "        for i in range(len(arr)):\n",
    "            if arr[i] > _max:\n",
    "                _max = arr[i]\n",
    "        return f\"The largest element in {arr} is {_max}\"\n",
    "    else:\n",
    "        return \"Please give input in list\"\n",
    "    \n",
    "arrayLargest([1,2,3,66,-1])"
   ]
  },
  {
   "cell_type": "markdown",
   "metadata": {},
   "source": [
    "3. Write a Python Program for array rotation?"
   ]
  },
  {
   "cell_type": "code",
   "execution_count": 11,
   "metadata": {},
   "outputs": [
    {
     "data": {
      "text/plain": [
       "'The array [1, 2, 3, 66, -1] after rotation of 2 elements is [3, 66, -1, 1, 2]'"
      ]
     },
     "execution_count": 11,
     "metadata": {},
     "output_type": "execute_result"
    }
   ],
   "source": [
    "def arrayRotate(arr,d):\n",
    "    \"\"\"d represents by how many elements rotation is to be made\"\"\"\n",
    "    if type(arr) == list:\n",
    "        temp = []\n",
    "        for i in range(d,len(arr)): #Left Rotate all elements after d to first\n",
    "            temp.append(arr[i])\n",
    "        i = 0 #now appending first d elements to last\n",
    "        for i in range(0,d):\n",
    "            temp.append(arr[i])\n",
    "        final_arr = temp.copy()\n",
    "        return f\"The array {arr} after rotation of {d} elements is {final_arr}\"\n",
    "    else:\n",
    "        return \"Please give input in list\"\n",
    "    \n",
    "arrayRotate([1,2,3,66,-1],2)    "
   ]
  },
  {
   "cell_type": "markdown",
   "metadata": {},
   "source": [
    "4. Write a Python Program to Split the array and add the first part to the end?"
   ]
  },
  {
   "cell_type": "code",
   "execution_count": 16,
   "metadata": {},
   "outputs": [
    {
     "data": {
      "text/plain": [
       "'The array [1, 2, 3, 66, -1] after split at 2 index is [3, 66, -1, 1, 2]'"
      ]
     },
     "execution_count": 16,
     "metadata": {},
     "output_type": "execute_result"
    }
   ],
   "source": [
    "def arraySplit(arr,d):\n",
    "    \"\"\"d represents the index where the split has to be made\"\"\"\n",
    "    if type(arr) == list:\n",
    "        final_arr = arr[d::] + arr[:d]\n",
    "        return f\"The array {arr} after split at {d} index is {final_arr}\"\n",
    "    else:\n",
    "        return \"Please give input in list\"\n",
    "    \n",
    "arraySplit([1,2,3,66,-1],2)"
   ]
  },
  {
   "cell_type": "markdown",
   "metadata": {},
   "source": [
    "5. Write a Python Program to check if given array is Monotonic?"
   ]
  },
  {
   "cell_type": "code",
   "execution_count": 52,
   "metadata": {},
   "outputs": [
    {
     "data": {
      "text/plain": [
       "'The monotonic result of [6, 5, 4, 2] is True'"
      ]
     },
     "execution_count": 52,
     "metadata": {},
     "output_type": "execute_result"
    }
   ],
   "source": [
    "def arrayMonotonic(arr):\n",
    "    if len(arr) == 1:\n",
    "        return f\"The monotonic result of {arr} is True\"\n",
    "    else:\n",
    "        if all(arr[i]>=arr[i+1] for i in range(0,len(arr)-1) or arr[i]<=arr[i+1] for i in range(0,len(arr)-1)):\n",
    "            return f\"The monotonic result of {arr} is True\"\n",
    "        else:\n",
    "            return f\"The monotonic result of {arr} is False\"\n",
    "\n",
    "arrayMonotonic([6, 5, 4, 2])"
   ]
  }
 ],
 "metadata": {
  "kernelspec": {
   "display_name": "Python 3",
   "language": "python",
   "name": "python3"
  },
  "language_info": {
   "codemirror_mode": {
    "name": "ipython",
    "version": 3
   },
   "file_extension": ".py",
   "mimetype": "text/x-python",
   "name": "python",
   "nbconvert_exporter": "python",
   "pygments_lexer": "ipython3",
   "version": "3.7.4"
  }
 },
 "nbformat": 4,
 "nbformat_minor": 2
}
