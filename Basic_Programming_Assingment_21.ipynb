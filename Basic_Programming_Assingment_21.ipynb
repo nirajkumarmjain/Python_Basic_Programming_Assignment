{
 "cells": [
  {
   "cell_type": "markdown",
   "metadata": {},
   "source": [
    "## Basic_Programming_Assingment_21 "
   ]
  },
  {
   "cell_type": "markdown",
   "metadata": {},
   "source": [
    "1.Write a function that takes a list and a number as arguments. Add the number to the end of the list, then remove the first element of the list. The function should then return the updated list.\n",
    "\n",
    "Examples:\n",
    "    \n",
    "next_in_line([5, 6, 7, 8, 9], 1) ➞ [6, 7, 8, 9, 1]\n",
    "\n",
    "next_in_line([7, 6, 3, 23, 17], 10) ➞ [6, 3, 23, 17, 10]\n",
    "\n",
    "next_in_line([1, 10, 20, 42 ], 6) ➞ [10, 20, 42, 6]\n",
    "\n",
    "next_in_line([], 6) ➞ \"No list has been selected\""
   ]
  },
  {
   "cell_type": "code",
   "execution_count": 6,
   "metadata": {},
   "outputs": [
    {
     "name": "stdout",
     "output_type": "stream",
     "text": [
      "next_in_line([6, 7, 8, 9, 1], 1) ➞ [6, 7, 8, 9, 1]\n",
      "next_in_line([6, 3, 23, 17, 10], 10) ➞ [6, 3, 23, 17, 10]\n",
      "next_in_line([10, 20, 42, 6], 6) ➞ [10, 20, 42, 6]\n",
      "next_in_line([], 6) ➞ No list has been selected\n"
     ]
    }
   ],
   "source": [
    "def next_in_line(inp,new_ele):\n",
    "    if len(inp) > 1:\n",
    "        out = inp\n",
    "        out.append(new_ele)\n",
    "        out.remove(inp[0])\n",
    "        print(f\"next_in_line{inp,new_ele} ➞ {out}\")\n",
    "    else:\n",
    "        print(f\"next_in_line{inp,new_ele} ➞ No list has been selected\")\n",
    "        \n",
    "next_in_line([5, 6, 7, 8, 9], 1)\n",
    "next_in_line([7, 6, 3, 23, 17], 10) \n",
    "next_in_line([1, 10, 20, 42 ], 6)\n",
    "next_in_line([], 6)"
   ]
  },
  {
   "cell_type": "code",
   "execution_count": null,
   "metadata": {},
   "outputs": [],
   "source": []
  },
  {
   "cell_type": "markdown",
   "metadata": {},
   "source": [
    "2.Create the function that takes a list of dictionaries and returns the sum of people's budgets.\n",
    "\n",
    "Examples:\n",
    "\n",
    "`get_budgets([\n",
    "{ \"name\": \"John\", \"age\": 21, \"budget\": 23000 },\n",
    "{ \"name\": \"Steve\", \"age\": 32, \"budget\": 40000 },\n",
    "{ \"name\": \"Martin\", \"age\": 16, \"budget\": 2700 }\n",
    "]) ➞ 65700`\n",
    "\n",
    "`get_budgets([\n",
    "{ \"name\": \"John\", \"age\": 21, \"budget\": 29000 },\n",
    "{ \"name\": \"Steve\", \"age\": 32, \"budget\": 32000 },\n",
    "{ \"name\": \"Martin\", \"age\": 16, \"budget\": 1600 }\n",
    "]) ➞ 62600`"
   ]
  },
  {
   "cell_type": "code",
   "execution_count": 11,
   "metadata": {},
   "outputs": [
    {
     "name": "stdout",
     "output_type": "stream",
     "text": [
      "get_budgets([{'name': 'John', 'age': 21, 'budget': 23000}, {'name': 'Steve', 'age': 32, 'budget': 40000}, {'name': 'Martin', 'age': 16, 'budget': 2700}]) ➞ 65700\n",
      "\n",
      "get_budgets([{'name': 'John', 'age': 21, 'budget': 29000}, {'name': 'Steve', 'age': 32, 'budget': 32000}, {'name': 'Martin', 'age': 16, 'budget': 1600}]) ➞ 62600\n",
      "\n"
     ]
    }
   ],
   "source": [
    "def get_budgets(inp):\n",
    "    tot_Salary = 0\n",
    "    for ele in inp:\n",
    "        tot_Salary += ele['budget']\n",
    "    print(f'get_budgets({inp}) ➞ {tot_Salary}\\n')\n",
    "    \n",
    "get_budgets([\n",
    "{ \"name\": \"John\", \"age\": 21, \"budget\": 23000 },\n",
    "{ \"name\": \"Steve\", \"age\": 32, \"budget\": 40000 },\n",
    "{ \"name\": \"Martin\", \"age\": 16, \"budget\": 2700 }\n",
    "]) \n",
    "\n",
    "get_budgets([\n",
    "{ \"name\": \"John\", \"age\": 21, \"budget\": 29000 },\n",
    "{ \"name\": \"Steve\", \"age\": 32, \"budget\": 32000 },\n",
    "{ \"name\": \"Martin\", \"age\": 16, \"budget\": 1600 }\n",
    "]) "
   ]
  },
  {
   "cell_type": "code",
   "execution_count": null,
   "metadata": {},
   "outputs": [],
   "source": []
  },
  {
   "cell_type": "markdown",
   "metadata": {},
   "source": [
    "3.Create a function that takes a string and returns a string with its letters in alphabetical order.\n",
    "\n",
    "Examples:\n",
    "    \n",
    "alphabet_soup(\"hello\") ➞ \"ehllo\"\n",
    "\n",
    "alphabet_soup(\"edabit\") ➞ \"abdeit\"\n",
    "\n",
    "alphabet_soup(\"hacker\") ➞ \"acehkr\"\n",
    "\n",
    "alphabet_soup(\"geek\") ➞ \"eegk\"\n",
    "\n",
    "alphabet_soup(\"javascript\") ➞ \"aacijprstv\""
   ]
  },
  {
   "cell_type": "code",
   "execution_count": 4,
   "metadata": {},
   "outputs": [
    {
     "name": "stdout",
     "output_type": "stream",
     "text": [
      "alphabet_soup(hello) ➞ ehllo\n",
      "alphabet_soup(edabit) ➞ abdeit\n",
      "alphabet_soup(hacker) ➞ acehkr\n",
      "alphabet_soup(geek) ➞ eegk\n",
      "alphabet_soup(javascript) ➞ aacijprstv\n"
     ]
    }
   ],
   "source": [
    "def alphabet_soup(inp):\n",
    "    out = ''.join(sorted(inp))\n",
    "    print(f\"alphabet_soup({inp}) ➞ {out}\")\n",
    "    \n",
    "alphabet_soup(\"hello\")\n",
    "alphabet_soup(\"edabit\") \n",
    "alphabet_soup(\"hacker\")\n",
    "alphabet_soup(\"geek\")\n",
    "alphabet_soup(\"javascript\")"
   ]
  },
  {
   "cell_type": "code",
   "execution_count": null,
   "metadata": {},
   "outputs": [],
   "source": []
  },
  {
   "cell_type": "markdown",
   "metadata": {},
   "source": [
    "4.What will be the value of your investment at the end of the 10 year period?\n",
    "\n",
    "Create a function that accepts the principal p, the term in years t, the interest rate r, and the number of compounding periods per year n. The function returns the value at the end of term rounded to the nearest cent.\n",
    "\n",
    "For the example above:\n",
    "\n",
    "compound_interest(10000, 10, 0.06, 12) ➞ 18193.97\n",
    "\n",
    "Note that the interest rate is given as a decimal and n=12 because with monthly compounding there are 12 periods per year. Compounding can also be done annually, quarterly, weekly, or daily.\n",
    "\n",
    "Examples:\n",
    "\n",
    "compound_interest(100, 1, 0.05, 1) ➞ 105.0\n",
    "\n",
    "compound_interest(3500, 15, 0.1, 4) ➞ 15399.26\n",
    "\n",
    "compound_interest(100000, 20, 0.15, 365) ➞ 2007316.26"
   ]
  },
  {
   "cell_type": "code",
   "execution_count": 10,
   "metadata": {},
   "outputs": [
    {
     "name": "stdout",
     "output_type": "stream",
     "text": [
      "compound_interest(100, 1, 0.05, 1) ➞ 105.0\n",
      "compound_interest(3500, 15, 0.1, 4) ➞ 15399.26\n",
      "compound_interest(100000, 20, 0.15, 365) ➞ 2007316.26\n"
     ]
    }
   ],
   "source": [
    "def compound_interest(principal,term,int_rate,compound_period):\n",
    "    final_amount = round(principal * ((1+ (int_rate/compound_period))**(compound_period*term)),2)\n",
    "    print(f\"compound_interest{principal,term,int_rate,compound_period} ➞ {final_amount}\")\n",
    "    \n",
    "compound_interest(100, 1, 0.05, 1)\n",
    "compound_interest(3500, 15, 0.1, 4)\n",
    "compound_interest(100000, 20, 0.15, 365)"
   ]
  },
  {
   "cell_type": "code",
   "execution_count": null,
   "metadata": {},
   "outputs": [],
   "source": []
  },
  {
   "cell_type": "markdown",
   "metadata": {},
   "source": [
    "5.Write a function that takes a list of elements and returns only the integers.\n",
    "\n",
    "Examples:\n",
    "\n",
    "return_only_integer([9, 2, \"space\", \"car\", \"lion\", 16]) ➞ [9, 2, 16]\n",
    "\n",
    "return_only_integer([\"hello\", 81, \"basketball\", 123, \"fox\"]) ➞ [81, 123]\n",
    "\n",
    "return_only_integer([10, \"121\", 56, 20, \"car\", 3, \"lion\"]) ➞ [10, 56, 20,3]\n",
    "\n",
    "return_only_integer([\"String\", True, 3.3, 1]) ➞ [1]"
   ]
  },
  {
   "cell_type": "code",
   "execution_count": 12,
   "metadata": {},
   "outputs": [
    {
     "name": "stdout",
     "output_type": "stream",
     "text": [
      "return_only_integer([9, 2, 'space', 'car', 'lion', 16]) ➞ [9, 2, 16]\n",
      "return_only_integer(['hello', 81, 'basketball', 123, 'fox']) ➞ [81, 123]\n",
      "return_only_integer([10, '121', 56, 20, 'car', 3, 'lion']) ➞ [10, 56, 20, 3]\n",
      "return_only_integer(['String', True, 3.3, 1]) ➞ [1]\n"
     ]
    }
   ],
   "source": [
    "def return_only_integer(inp):\n",
    "    out = []\n",
    "    for ele in inp:\n",
    "        if type(ele) == int:\n",
    "            out.append(ele)\n",
    "    print(f\"return_only_integer({inp}) ➞ {out}\")        \n",
    "\n",
    "return_only_integer([9, 2, \"space\", \"car\", \"lion\", 16])\n",
    "return_only_integer([\"hello\", 81, \"basketball\", 123, \"fox\"])\n",
    "return_only_integer([10, \"121\", 56, 20, \"car\", 3, \"lion\"])\n",
    "return_only_integer([\"String\", True, 3.3, 1])"
   ]
  },
  {
   "cell_type": "code",
   "execution_count": null,
   "metadata": {},
   "outputs": [],
   "source": []
  }
 ],
 "metadata": {
  "kernelspec": {
   "display_name": "Python 3",
   "language": "python",
   "name": "python3"
  },
  "language_info": {
   "codemirror_mode": {
    "name": "ipython",
    "version": 3
   },
   "file_extension": ".py",
   "mimetype": "text/x-python",
   "name": "python",
   "nbconvert_exporter": "python",
   "pygments_lexer": "ipython3",
   "version": "3.7.4"
  }
 },
 "nbformat": 4,
 "nbformat_minor": 2
}
