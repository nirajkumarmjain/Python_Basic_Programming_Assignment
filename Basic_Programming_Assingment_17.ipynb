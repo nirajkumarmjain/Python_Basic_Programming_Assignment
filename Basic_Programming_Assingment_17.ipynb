{
 "cells": [
  {
   "cell_type": "markdown",
   "metadata": {},
   "source": [
    "## Basic_Programming_Assingment_17"
   ]
  },
  {
   "cell_type": "markdown",
   "metadata": {},
   "source": [
    "1.Create a function that takes three arguments a, b, c and returns the sum of the numbers that are evenly divided by c from the range a, b inclusive ?\n",
    "\n",
    "Examples:\n",
    "\n",
    "`evenly_divisible(1, 10, 20) ➞ 0\n",
    "\n",
    "No number between 1 and 10 can be evenly divided by 20.\n",
    "\n",
    "evenly_divisible(1, 10, 2) ➞ 30\n",
    "\n",
    "2 + 4 + 6 + 8 + 10 = 30\n",
    "\n",
    "evenly_divisible(1, 10, 3) ➞ 18\n",
    "\n",
    "3 + 6 + 9 = 18`"
   ]
  },
  {
   "cell_type": "code",
   "execution_count": 3,
   "metadata": {},
   "outputs": [
    {
     "name": "stdout",
     "output_type": "stream",
     "text": [
      "evenly_divisible(1, 10, 20) ➞ 0\n",
      "evenly_divisible(1, 10, 2) ➞ 30\n",
      "evenly_divisible(1, 10, 3) ➞ 18\n"
     ]
    }
   ],
   "source": [
    "def evenly_divisible(a,b,c):\n",
    "    num = []\n",
    "    for val in range(a,b+1):\n",
    "        if val%c == 0:\n",
    "            num.append(val)\n",
    "    print(f\"evenly_divisible{a,b,c} ➞ {sum(num)}\")\n",
    "    \n",
    "evenly_divisible(1,10,20)\n",
    "evenly_divisible(1,10,2)\n",
    "evenly_divisible(1,10,3)"
   ]
  },
  {
   "cell_type": "code",
   "execution_count": null,
   "metadata": {},
   "outputs": [],
   "source": []
  },
  {
   "cell_type": "markdown",
   "metadata": {},
   "source": [
    "2.Create a function that returns True if a given inequality expression is correct and False otherwise ?\n",
    "\n",
    "Examples:\n",
    "\n",
    "correct_signs(\"3 < 7 < 11\") ➞ True\n",
    "\n",
    "correct_signs(\"13 > 44 > 33 > 1\") ➞ False\n",
    "\n",
    "correct_signs(\"1 < 2 < 6 < 9 > 3\") ➞ True"
   ]
  },
  {
   "cell_type": "code",
   "execution_count": 1,
   "metadata": {},
   "outputs": [
    {
     "name": "stdout",
     "output_type": "stream",
     "text": [
      "Enter the inequality expression: 3 < 7 < 11\n",
      "correct_signs((3 < 7 < 11) ➞ True\n",
      "Enter the inequality expression: 13 > 44 > 33 > 1\n",
      "correct_signs((13 > 44 > 33 > 1) ➞ False\n",
      "Enter the inequality expression: 1 < 2 < 6 < 9 > 3\n",
      "correct_signs((1 < 2 < 6 < 9 > 3) ➞ True\n"
     ]
    }
   ],
   "source": [
    "def correct_signs():\n",
    "    inp = input(\"Enter the inequality expression: \")\n",
    "    out = eval(inp)\n",
    "    print(f'correct_signs(({inp}) ➞ {out}')\n",
    "    \n",
    "for i in range(3):\n",
    "    correct_signs()"
   ]
  },
  {
   "cell_type": "code",
   "execution_count": null,
   "metadata": {},
   "outputs": [],
   "source": []
  },
  {
   "cell_type": "markdown",
   "metadata": {},
   "source": [
    "3.Create a function that replaces all the vowels in a string with a specified character ?\n",
    "\n",
    "Examples:\n",
    "\n",
    "replace_vowels(\"the aardvark\", \"#\") ➞ \"th# ##rdv#rk\"\n",
    "\n",
    "replace_vowels(\"minnie mouse\", \"?\") ➞ \"m?nn?? m??s?\"\n",
    "\n",
    "replace_vowels(\"shakespeare\", \"*\") ➞ \"shksp**r\""
   ]
  },
  {
   "cell_type": "code",
   "execution_count": 19,
   "metadata": {},
   "outputs": [
    {
     "name": "stdout",
     "output_type": "stream",
     "text": [
      "replace_vowels(('the aardvark', '#')) ➞ th# ##rdv#rk\n",
      "replace_vowels(('minnie mouse', '?')) ➞ m?nn?? m??s?\n",
      "replace_vowels(('shakespeare', '*')) ➞ sh*k*sp**r*\n"
     ]
    }
   ],
   "source": [
    "def replace_vowels(inp,replacement):\n",
    "    vowels = ['a','e','i','o','u','A','E','I','O','U']\n",
    "    inp_original = inp\n",
    "    for val in inp:\n",
    "        if val in vowels:\n",
    "            inp = inp.replace(val,replacement)\n",
    "    print(f\"replace_vowels({inp_original,replacement}) ➞ {inp}\")\n",
    "    \n",
    "replace_vowels(\"the aardvark\", \"#\")\n",
    "replace_vowels(\"minnie mouse\", \"?\")\n",
    "replace_vowels(\"shakespeare\", \"*\")"
   ]
  },
  {
   "cell_type": "code",
   "execution_count": null,
   "metadata": {},
   "outputs": [],
   "source": []
  },
  {
   "cell_type": "markdown",
   "metadata": {},
   "source": [
    "4.Write a function that calculates the factorial of a number recursively ?\n",
    "\n",
    "Examples:\n",
    "    \n",
    "factorial(5) ➞ 120\n",
    "\n",
    "factorial(3) ➞ 6\n",
    "\n",
    "factorial(1) ➞ 1\n",
    "\n",
    "factorial(0) ➞ 1"
   ]
  },
  {
   "cell_type": "code",
   "execution_count": 27,
   "metadata": {},
   "outputs": [
    {
     "name": "stdout",
     "output_type": "stream",
     "text": [
      "factorial(5) ➞ 120\n",
      "factorial(3) ➞ 6\n",
      "factorial(1) ➞ 1\n",
      "factorial(0) ➞ 1\n"
     ]
    }
   ],
   "source": [
    "def factorial(num):\n",
    "    if num == 0:\n",
    "        return 1\n",
    "    else:\n",
    "        return num * factorial(num-1)\n",
    "            \n",
    "print(f'factorial(5) ➞ {factorial(5)}')\n",
    "print(f'factorial(3) ➞ {factorial(3)}')\n",
    "print(f'factorial(1) ➞ {factorial(1)}')\n",
    "print(f'factorial(0) ➞ {factorial(0)}')"
   ]
  },
  {
   "cell_type": "code",
   "execution_count": null,
   "metadata": {},
   "outputs": [],
   "source": []
  },
  {
   "cell_type": "markdown",
   "metadata": {},
   "source": [
    "5.Hamming distance is the number of characters that differ between two strings ?\n",
    "\n",
    "To illustrate:\n",
    "\n",
    "String1: \"abcbba\"\n",
    "\n",
    "String2: \"abcbda\"\n",
    "\n",
    "Hamming Distance: 1 - \"b\" vs. \"d\" is the only difference.\n",
    "\n",
    "Create a function that computes the hamming distance between two strings.\n",
    "\n",
    "Examples:\n",
    "\n",
    "hamming_distance(\"abcde\", \"bcdef\") ➞ 5\n",
    "\n",
    "hamming_distance(\"abcde\", \"abcde\") ➞ 0\n",
    "\n",
    "hamming_distance(\"strong\", \"strung\") ➞ 1"
   ]
  },
  {
   "cell_type": "code",
   "execution_count": 30,
   "metadata": {},
   "outputs": [
    {
     "name": "stdout",
     "output_type": "stream",
     "text": [
      "hamming_distance(\"abcde\", \"bcdef\") ➞ 5\n",
      "hamming_distance(\"abcde\", \"abcde\") ➞ 0\n",
      "hamming_distance(\"strong\", \"strung\") ➞ 1\n"
     ]
    }
   ],
   "source": [
    "def hamming_distance(inp_1,inp_2):\n",
    "    if len(inp_1) == len(inp_2):\n",
    "        count = 0\n",
    "        for i in range(len(inp_1)):\n",
    "            if inp_1[i] != inp_2[i]:\n",
    "                count += 1\n",
    "        print(f'hamming_distance(\"{inp_1}\", \"{inp_2}\") ➞ {count}')\n",
    "    else:\n",
    "        print(f\"The length of {inp_1} is not same as length of {inp_2}\")\n",
    "    \n",
    "hamming_distance(\"abcde\", \"bcdef\")\n",
    "hamming_distance(\"abcde\", \"abcde\")\n",
    "hamming_distance(\"strong\", \"strung\")"
   ]
  },
  {
   "cell_type": "code",
   "execution_count": null,
   "metadata": {},
   "outputs": [],
   "source": []
  }
 ],
 "metadata": {
  "kernelspec": {
   "display_name": "Python 3",
   "language": "python",
   "name": "python3"
  },
  "language_info": {
   "codemirror_mode": {
    "name": "ipython",
    "version": 3
   },
   "file_extension": ".py",
   "mimetype": "text/x-python",
   "name": "python",
   "nbconvert_exporter": "python",
   "pygments_lexer": "ipython3",
   "version": "3.7.4"
  }
 },
 "nbformat": 4,
 "nbformat_minor": 2
}
