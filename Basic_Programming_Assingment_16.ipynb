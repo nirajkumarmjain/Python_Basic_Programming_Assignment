{
 "cells": [
  {
   "cell_type": "markdown",
   "metadata": {},
   "source": [
    "## Basic_Programming_Assingment_16"
   ]
  },
  {
   "cell_type": "markdown",
   "metadata": {},
   "source": [
    "1.Write a function that stutters a word as if someone is struggling to read it. The first two letters are repeated twice with an ellipsis ... and space after each, and then the word is pronounced with a question mark ?\n",
    "Examples: stutter(\"incredible\") ➞ \"in... in... incredible?\"\n",
    "stutter(\"enthusiastic\") ➞ \"en... en... enthusiastic?\"\n",
    "stutter(\"outstanding\") ➞ \"ou... ou... outstanding?\""
   ]
  },
  {
   "cell_type": "code",
   "execution_count": 1,
   "metadata": {},
   "outputs": [
    {
     "name": "stdout",
     "output_type": "stream",
     "text": [
      "Enter the string: incredible\n",
      "incredible ➞ in... in... incredible\n",
      "Enter the string: enthusiastic\n",
      "enthusiastic ➞ en... en... enthusiastic\n",
      "Enter the string: outstanding\n",
      "outstanding ➞ ou... ou... outstanding\n"
     ]
    }
   ],
   "source": [
    "def shutters():\n",
    "    inp = input(\"Enter the string: \")\n",
    "    out = (inp[0:2] + '... ')*2 + inp\n",
    "    print(f\"{inp} ➞ {out}\")\n",
    "    \n",
    "for i in range(3):\n",
    "    shutters()"
   ]
  },
  {
   "cell_type": "code",
   "execution_count": null,
   "metadata": {},
   "outputs": [],
   "source": []
  },
  {
   "cell_type": "markdown",
   "metadata": {},
   "source": [
    "2.Create a function that takes an angle in radians and returns the corresponding angle in degrees rounded to one decimal place ?\n",
    "Examples: radians_to_degrees(1) ➞ 57.3\n",
    "radians_to_degrees(20) ➞ 1145.9\n",
    "radians_to_degrees(50) ➞ 2864.8"
   ]
  },
  {
   "cell_type": "code",
   "execution_count": 6,
   "metadata": {},
   "outputs": [
    {
     "name": "stdout",
     "output_type": "stream",
     "text": [
      "Enter the radian value: 1\n",
      "radians_to_degrees(1) ➞ 57.3\n",
      "Enter the radian value: 20\n",
      "radians_to_degrees(20) ➞ 1145.9\n",
      "Enter the radian value: 50\n",
      "radians_to_degrees(50) ➞ 2864.8\n"
     ]
    }
   ],
   "source": [
    "import numpy as np\n",
    "\n",
    "def radians_to_degrees():\n",
    "    radian = int(input(\"Enter the radian value: \"))\n",
    "    angle = round(radian * (180/np.pi),1)\n",
    "    print(f\"radians_to_degrees({radian}) ➞ {angle}\")\n",
    "    \n",
    "for i in range(3):\n",
    "    radians_to_degrees()"
   ]
  },
  {
   "cell_type": "code",
   "execution_count": null,
   "metadata": {},
   "outputs": [],
   "source": []
  },
  {
   "cell_type": "markdown",
   "metadata": {},
   "source": [
    "3.In this challenge, establish if a given integer num is a Curzon number. If 1 plus 2 elevated to num is exactly divisible by 1 plus 2 multiplied by num, then num is a Curzon number. Given a non-negative integer num, implement a function that returns True if num is a Curzon number, or False otherwise.\n",
    "Examples: \n",
    "\n",
    "`is_curzon(5) ➞ True\n",
    "2 ** 5 + 1 = 33\n",
    "2 * 5 + 1 = 11\n",
    "33 is a multiple of 11\n",
    "\n",
    "is_curzon(10) ➞ False\n",
    "2 ** 10 + 1 = 1025\n",
    "2 * 10 + 1 = 21\n",
    "1025 is not a multiple of 21\n",
    "\n",
    "is_curzon(14) ➞ True\n",
    "2 ** 14 + 1 = 16385\n",
    "2 * 14 + 1 = 29\n",
    "16385 is a multiple of 29`"
   ]
  },
  {
   "cell_type": "code",
   "execution_count": 16,
   "metadata": {},
   "outputs": [
    {
     "name": "stdout",
     "output_type": "stream",
     "text": [
      "Enter a positive integer: 5\n",
      "is_curzon(5) ➞ True\n",
      "Enter a positive integer: 10\n",
      "is_curzon(10) ➞ False\n",
      "Enter a positive integer: 14\n",
      "is_curzon(14) ➞ True\n"
     ]
    }
   ],
   "source": [
    "def is_curzon():\n",
    "    inp = int(input(\"Enter a positive integer: \"))\n",
    "    if (2**inp + 1) % (2*inp + 1) == 0:\n",
    "        print(f\"is_curzon({inp}) ➞ True\")\n",
    "    else:\n",
    "        print(f\"is_curzon({inp}) ➞ False\")\n",
    "        \n",
    "for i in range(3):\n",
    "    is_curzon()"
   ]
  },
  {
   "cell_type": "code",
   "execution_count": null,
   "metadata": {},
   "outputs": [],
   "source": []
  },
  {
   "cell_type": "markdown",
   "metadata": {},
   "source": [
    "4.Given the side length x find the area of a hexagon ?\n",
    "Examples: area_of_hexagon(1) ➞ 2.6\n",
    "area_of_hexagon(2) ➞ 10.4\n",
    "area_of_hexagon(3) ➞ 23.4"
   ]
  },
  {
   "cell_type": "code",
   "execution_count": 25,
   "metadata": {},
   "outputs": [
    {
     "name": "stdout",
     "output_type": "stream",
     "text": [
      "Enter the length 'x': 1\n",
      "area_of_hexagon(1) ➞ 2.6\n",
      "Enter the length 'x': 2\n",
      "area_of_hexagon(2) ➞ 10.4\n",
      "Enter the length 'x': 3\n",
      "area_of_hexagon(3) ➞ 23.4\n"
     ]
    }
   ],
   "source": [
    "import numpy as np\n",
    "\n",
    "def area_of_hexagon():\n",
    "    x = int(input(\"Enter the length 'x': \"))\n",
    "    area = round(3 * np.sqrt(3) * x**2 / 2,1)\n",
    "    print(f\"area_of_hexagon({x}) ➞ {area}\")\n",
    "    \n",
    "for i in range(3):\n",
    "    area_of_hexagon()"
   ]
  },
  {
   "cell_type": "code",
   "execution_count": null,
   "metadata": {},
   "outputs": [],
   "source": []
  },
  {
   "cell_type": "markdown",
   "metadata": {},
   "source": [
    "5.Create a function that returns a base-2 (binary) representation of a base-10 (decimal) string number. To convert is simple:\n",
    "((2) means base-2 and (10) means base-10)\n",
    "010101001(2) = 1 + 8 + 32 + 128.\n",
    "Going from right to left, the value of the most right bit is 1, now from that every bit to the left will be x2 the value, value of an 8 bit binary numbers are (256, 128, 64, 32, 16, 8, 4, 2, 1).\n",
    "\n",
    "Examples:\n",
    "\n",
    "`binary(1) ➞ \"1\"\n",
    "\n",
    "1* 1 = 1\n",
    "\n",
    "binary(5) ➞ \"101\"\n",
    "\n",
    "1 1 + 1 4 = 5\n",
    "\n",
    "binary(10) ➞ \"1010\"\n",
    "\n",
    "1 2 + 1 8 = 10`"
   ]
  },
  {
   "cell_type": "code",
   "execution_count": 28,
   "metadata": {},
   "outputs": [
    {
     "name": "stdout",
     "output_type": "stream",
     "text": [
      "Enter the number1\n",
      "binary(1)  ➞ 1\n",
      "Enter the number5\n",
      "binary(5)  ➞ 101\n",
      "Enter the number10\n",
      "binary(10)  ➞ 1010\n"
     ]
    }
   ],
   "source": [
    "def toBinary():\n",
    "    inp = int(input(\"Enter the number\"))\n",
    "    binary = bin(inp).replace('0b','')\n",
    "    print(f\"binary({inp})  ➞ {binary}\")\n",
    "    \n",
    "for i in range(3):\n",
    "    toBinary()"
   ]
  }
 ],
 "metadata": {
  "kernelspec": {
   "display_name": "Python 3",
   "language": "python",
   "name": "python3"
  },
  "language_info": {
   "codemirror_mode": {
    "name": "ipython",
    "version": 3
   },
   "file_extension": ".py",
   "mimetype": "text/x-python",
   "name": "python",
   "nbconvert_exporter": "python",
   "pygments_lexer": "ipython3",
   "version": "3.7.4"
  }
 },
 "nbformat": 4,
 "nbformat_minor": 2
}
