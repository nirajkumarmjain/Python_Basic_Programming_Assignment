{
 "cells": [
  {
   "cell_type": "markdown",
   "metadata": {},
   "source": [
    "1. Write a Python program to find sum of elements in list?"
   ]
  },
  {
   "cell_type": "code",
   "execution_count": 10,
   "metadata": {},
   "outputs": [
    {
     "name": "stdout",
     "output_type": "stream",
     "text": [
      "Enter the list items : 1 2 3 4 5\n",
      "The sum of all elements in [1, 2, 3, 4, 5] is 15\n"
     ]
    }
   ],
   "source": [
    "lst = [int(item) for item in input(\"Enter the list items : \").split()]\n",
    "\n",
    "def listSum(lst):\n",
    "    \"\"\"Function to add all elements in list\"\"\"\n",
    "    sumTotal = 0\n",
    "    for val in lst:\n",
    "        sumTotal += val\n",
    "    print(f\"The sum of all elements in {lst} is {sumTotal}\")\n",
    "    \n",
    "listSum(lst)"
   ]
  },
  {
   "cell_type": "code",
   "execution_count": null,
   "metadata": {},
   "outputs": [],
   "source": []
  },
  {
   "cell_type": "markdown",
   "metadata": {},
   "source": [
    "2. Write a Python program to  Multiply all numbers in the list?"
   ]
  },
  {
   "cell_type": "code",
   "execution_count": 22,
   "metadata": {},
   "outputs": [
    {
     "name": "stdout",
     "output_type": "stream",
     "text": [
      "Enter the list items : 1 2 3 4\n",
      "The multiplication of all elements in [1, 2, 3, 4] is 24\n"
     ]
    }
   ],
   "source": [
    "lst = [int(item) for item in input(\"Enter the list items : \").split()]\n",
    "\n",
    "def listMul(lst):\n",
    "    \"\"\"Function to multiply all elements in list\"\"\"\n",
    "    mulTotal = 1\n",
    "    for val in lst:\n",
    "        mulTotal *= val\n",
    "    print(f\"The multiplication of all elements in {lst} is {mulTotal}\")\n",
    "    \n",
    "listMul(lst)"
   ]
  },
  {
   "cell_type": "code",
   "execution_count": null,
   "metadata": {},
   "outputs": [],
   "source": []
  },
  {
   "cell_type": "markdown",
   "metadata": {},
   "source": [
    "3. Write a Python program to find smallest number in a list?"
   ]
  },
  {
   "cell_type": "code",
   "execution_count": 36,
   "metadata": {},
   "outputs": [
    {
     "name": "stdout",
     "output_type": "stream",
     "text": [
      "Enter the list items : 90 89 676 2232 8\n",
      "The minimum of all elements in [90, 89, 676, 2232, 8] is 8\n"
     ]
    }
   ],
   "source": [
    "lst = [int(item) for item in input(\"Enter the list items : \").split()]\n",
    "\n",
    "def listMin(lst):\n",
    "    \n",
    "    minVal = lst[0]\n",
    "    for val in lst:\n",
    "        if val < minVal:\n",
    "            minVal = val\n",
    "    print(f\"The minimum of all elements in {lst} is {minVal}\")\n",
    "    \n",
    "listMin(lst)"
   ]
  },
  {
   "cell_type": "markdown",
   "metadata": {},
   "source": []
  },
  {
   "cell_type": "markdown",
   "metadata": {},
   "source": [
    "4. Write a Python program to find largest number in a list?"
   ]
  },
  {
   "cell_type": "code",
   "execution_count": 35,
   "metadata": {},
   "outputs": [
    {
     "name": "stdout",
     "output_type": "stream",
     "text": [
      "Enter the list items : 90 89 676 2232 8\n",
      "The largest of all elements in [90, 89, 676, 2232, 8] is 2232\n"
     ]
    }
   ],
   "source": [
    "lst = [int(item) for item in input(\"Enter the list items : \").split()]\n",
    "\n",
    "def listMax(lst):\n",
    "    \n",
    "    maxVal = lst[0]\n",
    "    for val in lst:\n",
    "        if val > maxVal:\n",
    "            maxVal = val\n",
    "    print(f\"The largest of all elements in {lst} is {maxVal}\")\n",
    "    \n",
    "listMax(lst)"
   ]
  },
  {
   "cell_type": "code",
   "execution_count": null,
   "metadata": {},
   "outputs": [],
   "source": []
  },
  {
   "cell_type": "markdown",
   "metadata": {},
   "source": [
    "5. Write a Python program to find second largest number in a list?"
   ]
  },
  {
   "cell_type": "code",
   "execution_count": 39,
   "metadata": {},
   "outputs": [
    {
     "name": "stdout",
     "output_type": "stream",
     "text": [
      "Enter the list items : 90 89 676 2232 8\n",
      "The second largest of all elements in list is 676\n"
     ]
    }
   ],
   "source": [
    "lst = [int(item) for item in input(\"Enter the list items : \").split()]\n",
    "\n",
    "def listSecondMax(lst):\n",
    "    lst.sort()\n",
    "    print(f\"The second largest of all elements in list is {lst[-2]}\")\n",
    "    \n",
    "listSecondMax(lst)"
   ]
  },
  {
   "cell_type": "markdown",
   "metadata": {},
   "source": [
    "6. Write a Python program to find N largest elements from a list?"
   ]
  },
  {
   "cell_type": "code",
   "execution_count": 50,
   "metadata": {},
   "outputs": [
    {
     "name": "stdout",
     "output_type": "stream",
     "text": [
      "Enter the list items : 90 89 676 2232 8\n",
      "Enter how many largest numbers to find : 2\n",
      "The 2 largest of all elements in list are [2232, 676]\n"
     ]
    }
   ],
   "source": [
    "def listNlargest():\n",
    "    lst = [int(item) for item in input(\"Enter the list items : \").split()]\n",
    "    inp = int(input(\"Enter how many largest numbers to find : \"))\n",
    "    lst.sort()\n",
    "    print(f\"The {inp} largest of all elements in list are {lst[-1:-(inp+1):-1]}\")\n",
    "     \n",
    "listNlargest()"
   ]
  },
  {
   "cell_type": "markdown",
   "metadata": {},
   "source": []
  },
  {
   "cell_type": "markdown",
   "metadata": {},
   "source": [
    "7. Write a Python program to print even numbers in a list?"
   ]
  },
  {
   "cell_type": "code",
   "execution_count": 52,
   "metadata": {},
   "outputs": [
    {
     "name": "stdout",
     "output_type": "stream",
     "text": [
      "Enter the list items : 1 2 3 4 5 6 7 8 9\n",
      "The even numbers in the given list are [2, 4, 6, 8]\n"
     ]
    }
   ],
   "source": [
    "lst = [int(item) for item in input(\"Enter the list items : \").split()]\n",
    "\n",
    "def listEven(lst):\n",
    "    out = []\n",
    "    for val in lst:\n",
    "        if val%2 == 0:\n",
    "            out.append(val)\n",
    "    print(f\"The even numbers in the given list are {out}\")\n",
    "\n",
    "listEven(lst)"
   ]
  },
  {
   "cell_type": "code",
   "execution_count": null,
   "metadata": {},
   "outputs": [],
   "source": []
  },
  {
   "cell_type": "markdown",
   "metadata": {},
   "source": [
    "8. Write a Python program to print odd numbers in a List?"
   ]
  },
  {
   "cell_type": "code",
   "execution_count": 53,
   "metadata": {},
   "outputs": [
    {
     "name": "stdout",
     "output_type": "stream",
     "text": [
      "Enter the list items : 1 2 3 4 5 6 7 8 9\n",
      "The odd numbers in the given list are [1, 3, 5, 7, 9]\n"
     ]
    }
   ],
   "source": [
    "lst = [int(item) for item in input(\"Enter the list items : \").split()]\n",
    "\n",
    "def listEven(lst):\n",
    "    out = []\n",
    "    for val in lst:\n",
    "        if val%2 == 1:\n",
    "            out.append(val)\n",
    "    print(f\"The odd numbers in the given list are {out}\")\n",
    "\n",
    "listEven(lst)"
   ]
  },
  {
   "cell_type": "code",
   "execution_count": null,
   "metadata": {},
   "outputs": [],
   "source": []
  },
  {
   "cell_type": "markdown",
   "metadata": {},
   "source": [
    "9. Write a Python program to Remove empty List from List"
   ]
  },
  {
   "cell_type": "code",
   "execution_count": 2,
   "metadata": {},
   "outputs": [
    {
     "name": "stdout",
     "output_type": "stream",
     "text": [
      "The revised list after removing empty list from [[], [], 1, 2, [], [], 3, 4, [1, 2, 3], [], 23] is: [1, 2, 3, 4, [1, 2, 3], 23]\n"
     ]
    }
   ],
   "source": [
    "def removeEmptyLst():\n",
    "    lst = [[],[],1,2,[],[],3,4,[1,2,3],[],23]\n",
    "    oldlist = lst.copy()\n",
    "    i = 0\n",
    "    while i < len(lst):\n",
    "        if type(lst[i]) == list:\n",
    "            if not lst[i]:\n",
    "                lst.remove(lst[i])\n",
    "                continue\n",
    "        i += 1\n",
    "    print(f\"The revised list after removing empty list from {oldlist} is: {lst}\")\n",
    "\n",
    "removeEmptyLst()"
   ]
  },
  {
   "cell_type": "code",
   "execution_count": null,
   "metadata": {},
   "outputs": [],
   "source": []
  },
  {
   "cell_type": "markdown",
   "metadata": {},
   "source": [
    "10. Write a Python program to Cloning or Copying a list?"
   ]
  },
  {
   "cell_type": "code",
   "execution_count": 5,
   "metadata": {},
   "outputs": [
    {
     "name": "stdout",
     "output_type": "stream",
     "text": [
      "Enter the list items : 1 2 3 4 5 6\n",
      "The copy/clone of list [1, 2, 3, 4, 5, 6] is created\n"
     ]
    }
   ],
   "source": [
    "lst = [int(item) for item in input(\"Enter the list items : \").split()]\n",
    "\n",
    "def copyList(lst):\n",
    "    newList = []\n",
    "    for item in lst:\n",
    "        newList.append(item)\n",
    "    print(f\"The copy/clone of list {newList} is created\")\n",
    "    \n",
    "copyList(lst)"
   ]
  },
  {
   "cell_type": "code",
   "execution_count": null,
   "metadata": {},
   "outputs": [],
   "source": []
  },
  {
   "cell_type": "markdown",
   "metadata": {},
   "source": [
    "11. Write a Python program to Count occurrences of an element in a list?"
   ]
  },
  {
   "cell_type": "code",
   "execution_count": 7,
   "metadata": {},
   "outputs": [
    {
     "name": "stdout",
     "output_type": "stream",
     "text": [
      "Enter the list items : 1 2 4 1 2 3 1 5 6\n",
      "Enter the number for which count of occurences to be found: 1\n",
      "The occurence of list 1 in [1, 2, 4, 1, 2, 3, 1, 5, 6] is 3\n"
     ]
    }
   ],
   "source": [
    "lst = [int(item) for item in input(\"Enter the list items : \").split()]\n",
    "find = int(input(\"Enter the number for which count of occurences to be found: \"))\n",
    "\n",
    "def countItemList(lst,find):\n",
    "    count = 0\n",
    "    for item in lst:\n",
    "        if item == find:\n",
    "            count += 1\n",
    "    print(f\"The occurence of list {find} in {lst} is {count}\")\n",
    "    \n",
    "countItemList(lst,find)"
   ]
  }
 ],
 "metadata": {
  "kernelspec": {
   "display_name": "Python 3",
   "language": "python",
   "name": "python3"
  },
  "language_info": {
   "codemirror_mode": {
    "name": "ipython",
    "version": 3
   },
   "file_extension": ".py",
   "mimetype": "text/x-python",
   "name": "python",
   "nbconvert_exporter": "python",
   "pygments_lexer": "ipython3",
   "version": "3.7.4"
  }
 },
 "nbformat": 4,
 "nbformat_minor": 2
}
