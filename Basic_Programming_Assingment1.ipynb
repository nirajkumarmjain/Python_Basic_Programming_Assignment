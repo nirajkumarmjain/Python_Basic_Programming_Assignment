{
 "cells": [
  {
   "cell_type": "markdown",
   "metadata": {},
   "source": [
    "# Python Programming_Assignment_1"
   ]
  },
  {
   "cell_type": "code",
   "execution_count": 7,
   "metadata": {},
   "outputs": [
    {
     "name": "stdout",
     "output_type": "stream",
     "text": [
      "1.Write a Python program to print \"Hello Python\"?\n",
      "\n",
      "Solution:\n",
      "\n",
      "Hello Python\n"
     ]
    }
   ],
   "source": [
    "print('1.Write a Python program to print \"Hello Python\"?\\n\\nSolution:\\n')\n",
    "print(\"Hello Python\")#Code to print \"Hello Python\"\n"
   ]
  },
  {
   "cell_type": "code",
   "execution_count": 1,
   "metadata": {},
   "outputs": [
    {
     "name": "stdout",
     "output_type": "stream",
     "text": [
      "2. Write a Python program to do arithmetical operations addition and division.?\n",
      "\n",
      "Solution:\n",
      "Enter value for a:1\n",
      "Enter value for b:2\n",
      "Choose option 1 for 'Add operation' or option 2 for 'Division Operation' 3\n",
      "Invalid Operation Selected!\n"
     ]
    }
   ],
   "source": [
    "print(\"2. Write a Python program to do arithmetical operations addition and division.?\")\n",
    "print(\"\\nSolution:\")\n",
    "a,b=int(input(\"Enter value for a:\")),int(input(\"Enter value for b:\"))\n",
    "o=int(input(\"Choose option 1 for 'Add operation' or option 2 for 'Division Operation' \"))\n",
    "if(o==1):\n",
    "    print(\"You chose 'Add operation' and the result is: \",a+b)\n",
    "elif(o==2):\n",
    "    print(\"You chose 'Division operation' and the result is: \",a/b)\n",
    "else:\n",
    "    print(\"Invalid Operation Selected!\")"
   ]
  },
  {
   "cell_type": "code",
   "execution_count": 4,
   "metadata": {},
   "outputs": [
    {
     "name": "stdout",
     "output_type": "stream",
     "text": [
      "3. Write a Python program to find the area of a triangle?\n",
      "\n",
      "Solution:\n",
      "This program calculates area of triangle:\n",
      "Enter value for base(in cm):10\n",
      "Enter value for height(in cm):5\n",
      "Area of triangle is: 25.0 sq. cm\n"
     ]
    }
   ],
   "source": [
    "print(\"3. Write a Python program to find the area of a triangle?\")\n",
    "print(\"\\nSolution:\")\n",
    "print(\"This program calculates area of triangle:\")\n",
    "b,h=int(input(\"Enter value for base(in cm):\")),int(input(\"Enter value for height(in cm):\"))\n",
    "if(b>0 and h>0):\n",
    "    print(\"Area of triangle is:\",0.5*b*h,\"sq. cm\")\n",
    "else:\n",
    "    print(\"Operation aborted! Enter base & height > 0\")"
   ]
  },
  {
   "cell_type": "code",
   "execution_count": 7,
   "metadata": {},
   "outputs": [
    {
     "name": "stdout",
     "output_type": "stream",
     "text": [
      "4. Write a Python program to swap two variables?\n",
      "\n",
      "Solution:\n",
      "This program swaps two variables:\n",
      "Enter value for a:1\n",
      "Enter value for b:2\n",
      "Before Swap: The value of a is: 1 and the value of b is: 2 \n",
      "After Swap: The value of a is: 2 and the value of b is: 1 \n"
     ]
    }
   ],
   "source": [
    "print(\"4. Write a Python program to swap two variables?\")\n",
    "print(\"\\nSolution:\")\n",
    "print(\"This program swaps two variables:\")\n",
    "a,b=int(input(\"Enter value for a:\")),int(input(\"Enter value for b:\"))\n",
    "print(\"Before Swap: The value of a is: {} and the value of b is: {} \".format(a,b))\n",
    "x=a\n",
    "a=b\n",
    "b=x\n",
    "print(\"After Swap: The value of a is: {} and the value of b is: {} \".format(a,b))"
   ]
  },
  {
   "cell_type": "code",
   "execution_count": 18,
   "metadata": {},
   "outputs": [
    {
     "name": "stdout",
     "output_type": "stream",
     "text": [
      "5. Write a Python program to generate a random number?\n",
      "\n",
      "Solution:\n",
      "This program generates random number between the range specified:\n",
      "Enter lower range :78\n",
      "Enter upper range :90\n",
      "Random number generated between 78 and 90 is :86\n"
     ]
    }
   ],
   "source": [
    "import random\n",
    "print(\"5. Write a Python program to generate a random number?\")\n",
    "print(\"\\nSolution:\")\n",
    "print(\"This program generates random number between the range specified:\")\n",
    "a,b=int(input(\"Enter lower range :\")),int(input(\"Enter upper range :\"))\n",
    "if(a<b):\n",
    "    print(\"Random number generated between {} and {} is :{}\".format(a,b,random.randint(a,b)))\n",
    "else:\n",
    "    print(\"Program aborted because of invalid range!\")"
   ]
  }
 ],
 "metadata": {
  "kernelspec": {
   "display_name": "Python 3",
   "language": "python",
   "name": "python3"
  },
  "language_info": {
   "codemirror_mode": {
    "name": "ipython",
    "version": 3
   },
   "file_extension": ".py",
   "mimetype": "text/x-python",
   "name": "python",
   "nbconvert_exporter": "python",
   "pygments_lexer": "ipython3",
   "version": "3.7.4"
  }
 },
 "nbformat": 4,
 "nbformat_minor": 2
}
