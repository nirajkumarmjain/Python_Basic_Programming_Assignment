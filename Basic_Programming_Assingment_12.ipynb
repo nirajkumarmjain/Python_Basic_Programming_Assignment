{
 "cells": [
  {
   "cell_type": "markdown",
   "metadata": {},
   "source": [
    "1. Write a Python program to Extract Unique values dictionary values?"
   ]
  },
  {
   "cell_type": "code",
   "execution_count": 11,
   "metadata": {},
   "outputs": [
    {
     "name": "stdout",
     "output_type": "stream",
     "text": [
      "Your input dictornary was: \n",
      "{'key1': [1, 2, 3, 'a', 'b', 'c'], 'key2': [1, 2, 'n', 'b'], 'key3': ['c', 4, 'b'], 'key4': [1, 90, 'x', 'a']} .\n",
      " The unique values from dictionary items: \n",
      "{1, 2, 3, 4, 90, 'a', 'b', 'n', 'x', 'c'} \n"
     ]
    }
   ],
   "source": [
    "dict_inp = {\"key1\":[1,2,3,\"a\",\"b\",\"c\"], \"key2\": [1,2,\"n\",\"b\"], \"key3\": [\"c\",4,\"b\"], \"key4\" : [1,90,\"x\",\"a\"]}\n",
    "\n",
    "def uniqueDictvalues(dict_inp):\n",
    "    uniq_Set = set()\n",
    "    for item in dict_inp.values():\n",
    "        for val in item:\n",
    "            uniq_Set.add(val)\n",
    "    print(f\"Your input dictornary was: \\n{dict_inp} .\\n The unique values from dictionary items: \\n{uniq_Set} \")\n",
    "    \n",
    "uniqueDictvalues(dict_inp)"
   ]
  },
  {
   "cell_type": "code",
   "execution_count": null,
   "metadata": {},
   "outputs": [],
   "source": []
  },
  {
   "cell_type": "markdown",
   "metadata": {},
   "source": [
    "2. Write a Python program to find the sum of all items in a dictionary?"
   ]
  },
  {
   "cell_type": "code",
   "execution_count": 20,
   "metadata": {},
   "outputs": [
    {
     "name": "stdout",
     "output_type": "stream",
     "text": [
      "Your input dictornary was: \n",
      "{'key1': [1, 2, 3, 'a', 'b', 'c'], 'key2': [1, 2, 'n', 'b'], 'key3': ['c', 4.5, 'b'], 'key4': [1, 90, 'x', 'a']} .\n",
      " The sum of int or float dictionary item values is: 104.5 \n"
     ]
    }
   ],
   "source": [
    "dict_inp = {\"key1\":[1,2,3,\"a\",\"b\",\"c\"], \"key2\": [1,2,\"n\",\"b\"], \"key3\": [\"c\",4.5,\"b\"], \"key4\" : [1,90,\"x\",\"a\"]}\n",
    "\n",
    "def uniqueDictvalues(dict_inp):\n",
    "    list_items = []\n",
    "    for item in dict_inp.values():\n",
    "        for val in item:\n",
    "            if type(val) == int or type(val) == float:\n",
    "                list_items.append(val)\n",
    "    print(f\"Your input dictornary was: \\n{dict_inp} .\\n The sum of int or float dictionary item values is: {sum(list_items)} \")\n",
    "    \n",
    "uniqueDictvalues(dict_inp)"
   ]
  },
  {
   "cell_type": "code",
   "execution_count": null,
   "metadata": {},
   "outputs": [],
   "source": []
  },
  {
   "cell_type": "markdown",
   "metadata": {},
   "source": [
    "3. Write a Python program to Merging two Dictionaries?"
   ]
  },
  {
   "cell_type": "code",
   "execution_count": 30,
   "metadata": {},
   "outputs": [
    {
     "name": "stdout",
     "output_type": "stream",
     "text": [
      "The final dictoinary after merging 2 dictionaries is \n",
      "{'key1': [1, 2, 3, 'a', 'b', 'c'], 'key2': [1, 2, 'n', 'b'], 'key3': ['c', 4.5, 'b'], 'key4': ['dd', 14.5, 'fb'], 'key5': [51, 960, 'gx', 'ha']} \n"
     ]
    }
   ],
   "source": [
    "dict_inp_1 = {\"key1\":[1,2,3,\"a\",\"b\",\"c\"], \"key2\": [1,2,\"n\",\"b\"], \"key3\": [\"c\",4.5,\"b\"], \"key4\" : [1,90,\"x\",\"a\"]}\n",
    "dict_inp_2 = {\"key4\": [\"dd\",14.5,\"fb\"], \"key5\" : [51,960,\"gx\",\"ha\"]}\n",
    "\n",
    "def mergeDict(*args):\n",
    "    out_dict = {}\n",
    "    for each in args:\n",
    "        out_dict.update(each)\n",
    "    print(f\"The final dictoinary after merging {len(args)} dictionaries is \\n{out_dict} \")\n",
    "    \n",
    "mergeDict(dict_inp_1,dict_inp_2)"
   ]
  },
  {
   "cell_type": "code",
   "execution_count": null,
   "metadata": {},
   "outputs": [],
   "source": []
  },
  {
   "cell_type": "markdown",
   "metadata": {},
   "source": [
    "4. Write a Python program to convert key-values list to flat dictionary?"
   ]
  },
  {
   "cell_type": "code",
   "execution_count": 63,
   "metadata": {},
   "outputs": [
    {
     "name": "stdout",
     "output_type": "stream",
     "text": [
      "The original dictionary is: {'stocks': ['Google', 'Microsoft', 'Apple'], 'prices': [200, 100, 500]}\n",
      "The output of flattened dictionary is: {'Google': 200, 'Microsoft': 100, 'Apple': 500}\n"
     ]
    }
   ],
   "source": [
    "dict_inp = {'stocks': [\"Google\",\"Microsoft\",\"Apple\"] ,\n",
    "               'prices' : [200,100,500]}\n",
    "\n",
    "def flatDict(dict_inp):\n",
    "    print(f\"The original dictionary is: {dict_inp}\" )\n",
    "    outDict = dict(zip(dict_inp['stocks'],dict_inp['prices']))\n",
    "    print(f\"The output of flattened dictionary is: {outDict}\")\n",
    "    \n",
    "flatDict(dict_inp)"
   ]
  },
  {
   "cell_type": "code",
   "execution_count": null,
   "metadata": {},
   "outputs": [],
   "source": []
  },
  {
   "cell_type": "markdown",
   "metadata": {},
   "source": [
    "5. Write a Python program to insertion at the beginning in OrderedDict?"
   ]
  },
  {
   "cell_type": "code",
   "execution_count": 79,
   "metadata": {},
   "outputs": [
    {
     "name": "stdout",
     "output_type": "stream",
     "text": [
      "The original Dictionary was : OrderedDict([('key1', 'value1'), ('key2', 'value2'), ('key3', 'value3')])\n",
      "\n",
      "The updated Dictionary is with new item at beginning is: \n",
      "OrderedDict([('key4', 'value4'), ('key1', 'value1'), ('key2', 'value2'), ('key3', 'value3')])\n"
     ]
    }
   ],
   "source": [
    "from collections import OrderedDict\n",
    "\n",
    "def insertOrdDict():\n",
    "    dic1 = OrderedDict([('key1','value1'),('key2','value2'),('key3','value3')])\n",
    "    new = {'key4':'value4'}\n",
    "    print(f\"The original Dictionary was : {dic1}\")\n",
    "    dic1.update(new)\n",
    "    dic1.move_to_end('key4',last = False)\n",
    "    print(f\"\\nThe updated Dictionary is with new item at beginning is: \\n{dic1}\")\n",
    "    \n",
    "insertOrdDict()"
   ]
  },
  {
   "cell_type": "code",
   "execution_count": null,
   "metadata": {},
   "outputs": [],
   "source": []
  },
  {
   "cell_type": "markdown",
   "metadata": {},
   "source": [
    "6. Write a Python program to check order of character in string using OrderedDict()?"
   ]
  },
  {
   "cell_type": "code",
   "execution_count": 87,
   "metadata": {},
   "outputs": [
    {
     "name": "stdout",
     "output_type": "stream",
     "text": [
      "True\n"
     ]
    }
   ],
   "source": [
    "from collections import OrderedDict\n",
    "\n",
    "inp = \"ineuron\"\n",
    "pattern = \"ur\"\n",
    "\n",
    "def check_Pattern(inp,pattern):\n",
    "    inpDict = OrderedDict.fromkeys(inp)\n",
    "    cnt = 0\n",
    "    for key in inpDict.keys():\n",
    "        if (key == pattern[cnt]):\n",
    "            cnt += 1\n",
    "        if cnt == len(pattern):\n",
    "            return True\n",
    "    return False\n",
    "    \n",
    "res = check_Pattern(inp,pattern)\n",
    "print(res)"
   ]
  },
  {
   "cell_type": "code",
   "execution_count": null,
   "metadata": {},
   "outputs": [],
   "source": []
  },
  {
   "cell_type": "markdown",
   "metadata": {},
   "source": [
    "7. Write a Python program to sort Python Dictionaries by Key or Value?"
   ]
  },
  {
   "cell_type": "code",
   "execution_count": 113,
   "metadata": {},
   "outputs": [
    {
     "name": "stdout",
     "output_type": "stream",
     "text": [
      "The original input dictionary was: {5: 100, 3: 8, 6: 770, 4: 213, 2: 19, 1: 43}\n",
      "The output dictionary sorted using KEY is: {1: 43, 2: 19, 3: 8, 4: 213, 5: 100, 6: 770}\n",
      "The output dictionary sorted using VALUE is: {3: 8, 2: 19, 1: 43, 5: 100, 4: 213, 6: 770}\n"
     ]
    }
   ],
   "source": [
    "inp = {5: 100, 3: 8, 6: 770, 4: 213, 2: 19, 1: 43}\n",
    "\n",
    "def sortDict(inp):\n",
    "    outKey = {k : v for k,v in sorted(inp.items(),key = lambda x : x[0])} #Sort using Key\n",
    "    outValue = {k : v for k,v in sorted(inp.items(),key = lambda x : x[1])} #Sort using Value\n",
    "    print(f\"The original input dictionary was: {inp}\")\n",
    "    print(f\"The output dictionary sorted using KEY is: {outKey}\")\n",
    "    print(f\"The output dictionary sorted using VALUE is: {outValue}\")\n",
    "    \n",
    "sortDict(inp)"
   ]
  }
 ],
 "metadata": {
  "kernelspec": {
   "display_name": "Python 3",
   "language": "python",
   "name": "python3"
  },
  "language_info": {
   "codemirror_mode": {
    "name": "ipython",
    "version": 3
   },
   "file_extension": ".py",
   "mimetype": "text/x-python",
   "name": "python",
   "nbconvert_exporter": "python",
   "pygments_lexer": "ipython3",
   "version": "3.7.4"
  }
 },
 "nbformat": 4,
 "nbformat_minor": 2
}
