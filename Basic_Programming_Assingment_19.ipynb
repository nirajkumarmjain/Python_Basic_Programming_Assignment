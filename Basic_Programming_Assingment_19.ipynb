{
 "cells": [
  {
   "cell_type": "markdown",
   "metadata": {},
   "source": [
    "## Basic_Programming_Assingment_18"
   ]
  },
  {
   "cell_type": "markdown",
   "metadata": {},
   "source": [
    "1.Create a function that takes a string and returns a string in which each character is repeated once.\n",
    "\n",
    "Examples:\n",
    "    \n",
    "double_char(\"String\") ➞ \"SSttrriinngg\"\n",
    "\n",
    "double_char(\"Hello World!\") ➞ \"HHeelllloo WWoorrlldd!!\"\n",
    "\n",
    "doublechar(\"1234!_\") ➞ \"11223344!!__\""
   ]
  },
  {
   "cell_type": "code",
   "execution_count": 6,
   "metadata": {},
   "outputs": [
    {
     "name": "stdout",
     "output_type": "stream",
     "text": [
      "double_char(\"String\") ➞ SSttrriinngg\n",
      "double_char(\"Hello World!\") ➞ HHeelllloo  WWoorrlldd!!\n",
      "double_char(\"1234!_\") ➞ 11223344!!__\n"
     ]
    }
   ],
   "source": [
    "def double_char(inp):\n",
    "    out = ''\n",
    "    for ele in inp:\n",
    "        out += ele*2\n",
    "    print(f'double_char(\"{inp}\") ➞ {out}')\n",
    "\n",
    "double_char(\"String\") \n",
    "double_char(\"Hello World!\")\n",
    "double_char(\"1234!_\") "
   ]
  },
  {
   "cell_type": "code",
   "execution_count": null,
   "metadata": {},
   "outputs": [],
   "source": []
  },
  {
   "cell_type": "markdown",
   "metadata": {},
   "source": [
    "2.Create a function that reverses a boolean value and returns the string \"boolean expected\" if another variable type is given.\n",
    "\n",
    "Examples:\n",
    "\n",
    "reverse(True) ➞ False\n",
    "\n",
    "reverse(False) ➞ True\n",
    "\n",
    "reverse(0) ➞ \"boolean expected\"\n",
    "\n",
    "reverse(None) ➞ \"boolean expected\""
   ]
  },
  {
   "cell_type": "code",
   "execution_count": 9,
   "metadata": {},
   "outputs": [
    {
     "name": "stdout",
     "output_type": "stream",
     "text": [
      "reverse(True) ➞ False\n",
      "reverse(False) ➞ True\n",
      "reverse(0) ➞ boolean expected\n",
      "reverse(None) ➞ boolean expected\n"
     ]
    }
   ],
   "source": [
    "def reverse(inp):\n",
    "    if type(inp) == bool:\n",
    "        out = not inp\n",
    "        print(f\"reverse({inp}) ➞ {out}\")\n",
    "    else:\n",
    "        print(f\"reverse({inp}) ➞ boolean expected\")\n",
    "        \n",
    "reverse(True)\n",
    "reverse(False)\n",
    "reverse(0)\n",
    "reverse(None)"
   ]
  },
  {
   "cell_type": "code",
   "execution_count": null,
   "metadata": {},
   "outputs": [],
   "source": []
  },
  {
   "cell_type": "markdown",
   "metadata": {},
   "source": [
    "3. Create a function that returns the thickness (in meters) of a piece of paper after folding it n number of times. The paper starts off with a thickness of 0.5mm.\n",
    "\n",
    "Examples:\n",
    "\n",
    "`num_layers(1) ➞ \"0.001m\"\n",
    "Paper folded once is 1mm (equal to 0.001m)\n",
    "\n",
    "num_layers(4) ➞ \"0.008m\"\n",
    "Paper folded 4 times is 8mm (equal to 0.008m)\n",
    "\n",
    "num_layers(21) ➞ \"1048.576m\"\n",
    "Paper folded 21 times is 1048576mm (equal to 1048.576m)`"
   ]
  },
  {
   "cell_type": "code",
   "execution_count": 15,
   "metadata": {},
   "outputs": [
    {
     "name": "stdout",
     "output_type": "stream",
     "text": [
      "num_layers(1) ➞ 0.001m\n",
      "num_layers(4) ➞ 0.008m\n",
      "num_layers(21) ➞ 1048.576m\n"
     ]
    }
   ],
   "source": [
    "def num_layers(inp):\n",
    "    thickness = 0.5\n",
    "    for val in range(inp):\n",
    "        thickness = thickness * 2\n",
    "    out_in_meters = thickness/1000\n",
    "    print(f\"num_layers({inp}) ➞ {out_in_meters}m\")\n",
    "    \n",
    "num_layers(1)\n",
    "num_layers(4)\n",
    "num_layers(21)"
   ]
  },
  {
   "cell_type": "code",
   "execution_count": null,
   "metadata": {},
   "outputs": [],
   "source": []
  },
  {
   "cell_type": "markdown",
   "metadata": {},
   "source": [
    "4.Create a function that takes a single string as argument and returns an ordered list containing the indices of all capital letters in the string.\n",
    "\n",
    "Examples:\n",
    "\n",
    "index_of_caps(\"eDaBiT\") ➞ [1, 3, 5]\n",
    "\n",
    "index_of_caps(\"eQuINoX\") ➞ [1, 3, 4, 6]\n",
    "\n",
    "index_of_caps(\"determine\") ➞ []\n",
    "\n",
    "index_of_caps(\"STRIKE\") ➞ [0, 1, 2, 3, 4, 5]\n",
    "\n",
    "index_of_caps(\"sUn\") ➞ [1]"
   ]
  },
  {
   "cell_type": "code",
   "execution_count": 18,
   "metadata": {},
   "outputs": [
    {
     "name": "stdout",
     "output_type": "stream",
     "text": [
      "index_of_caps(\"eDaBiT\") ➞ [1, 3, 5]\n",
      "index_of_caps(\"determine\") ➞ []\n",
      "index_of_caps(\"STRIKE\") ➞ [0, 1, 2, 3, 4, 5]\n",
      "index_of_caps(\"sUn\") ➞ [1]\n"
     ]
    }
   ],
   "source": [
    "def index_of_caps(inp):\n",
    "    out = []\n",
    "    for ele in inp:\n",
    "        if ele.isupper():\n",
    "            out.append(inp.index(ele))\n",
    "    print(f'index_of_caps(\"{inp}\") ➞ {out}')\n",
    "    \n",
    "index_of_caps(\"eDaBiT\")\n",
    "index_of_caps(\"determine\")\n",
    "index_of_caps(\"STRIKE\")\n",
    "index_of_caps(\"sUn\")"
   ]
  },
  {
   "cell_type": "code",
   "execution_count": null,
   "metadata": {},
   "outputs": [],
   "source": []
  },
  {
   "cell_type": "markdown",
   "metadata": {},
   "source": [
    "5.Using list comprehensions, create a function that finds all even numbers from 1 to the given number.\n",
    "\n",
    "Examples:\n",
    "    \n",
    "find_even_nums(8) ➞ [2, 4, 6, 8]\n",
    "\n",
    "find_even_nums(4) ➞ [2, 4]\n",
    "\n",
    "find_even_nums(2) ➞ [2]"
   ]
  },
  {
   "cell_type": "code",
   "execution_count": 24,
   "metadata": {},
   "outputs": [
    {
     "name": "stdout",
     "output_type": "stream",
     "text": [
      "find_even_nums(8) ➞ [2, 4, 6, 8]\n",
      "find_even_nums(4) ➞ [2, 4]\n",
      "find_even_nums(2) ➞ [2]\n"
     ]
    }
   ],
   "source": [
    "def find_even_nums(inp):\n",
    "    out = [val for val in range(1,inp+1) if val % 2 == 0]\n",
    "    print(f\"find_even_nums({inp}) ➞ {out}\")\n",
    "    \n",
    "find_even_nums(8)\n",
    "find_even_nums(4)\n",
    "find_even_nums(2)"
   ]
  },
  {
   "cell_type": "code",
   "execution_count": null,
   "metadata": {},
   "outputs": [],
   "source": []
  }
 ],
 "metadata": {
  "kernelspec": {
   "display_name": "Python 3",
   "language": "python",
   "name": "python3"
  },
  "language_info": {
   "codemirror_mode": {
    "name": "ipython",
    "version": 3
   },
   "file_extension": ".py",
   "mimetype": "text/x-python",
   "name": "python",
   "nbconvert_exporter": "python",
   "pygments_lexer": "ipython3",
   "version": "3.7.4"
  }
 },
 "nbformat": 4,
 "nbformat_minor": 2
}
