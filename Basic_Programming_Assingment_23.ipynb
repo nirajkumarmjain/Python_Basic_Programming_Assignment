{
 "cells": [
  {
   "cell_type": "markdown",
   "metadata": {},
   "source": [
    "## Basic_Programming_Assingment_23"
   ]
  },
  {
   "cell_type": "markdown",
   "metadata": {},
   "source": [
    "1.Create a function that takes a number as an argument and returns True or False depending on whether the number is symmetrical or not. A number is symmetrical when it is the same as its reverse.\n",
    "\n",
    "Examples:\n",
    "\n",
    "is_symmetrical(7227) ➞ True\n",
    "\n",
    "is_symmetrical(12567) ➞ False\n",
    "\n",
    "is_symmetrical(44444444) ➞ True\n",
    "\n",
    "is_symmetrical(9939) ➞ False\n",
    "\n",
    "is_symmetrical(1112111) ➞ True"
   ]
  },
  {
   "cell_type": "code",
   "execution_count": 4,
   "metadata": {},
   "outputs": [
    {
     "name": "stdout",
     "output_type": "stream",
     "text": [
      "is_symmetrical(7227) ➞ True \n",
      "is_symmetrical(12567) ➞ False \n",
      "is_symmetrical(44444444) ➞ True \n",
      "is_symmetrical(9939) ➞ False \n",
      "is_symmetrical(1112111) ➞ True \n"
     ]
    }
   ],
   "source": [
    "def is_symmetrical(inp):\n",
    "    inp_in_string = str(inp)\n",
    "    if inp_in_string == inp_in_string[::-1]:\n",
    "        print(f\"is_symmetrical({inp}) ➞ {True} \")\n",
    "    else:\n",
    "        print(f\"is_symmetrical({inp}) ➞ {False} \")\n",
    "        \n",
    "is_symmetrical(7227)\n",
    "is_symmetrical(12567) \n",
    "is_symmetrical(44444444)\n",
    "is_symmetrical(9939)\n",
    "is_symmetrical(1112111)"
   ]
  },
  {
   "cell_type": "code",
   "execution_count": null,
   "metadata": {},
   "outputs": [],
   "source": []
  },
  {
   "cell_type": "markdown",
   "metadata": {},
   "source": [
    "2.Given a string of numbers separated by a comma and space, return the product of the numbers.\n",
    "\n",
    "Examples:\n",
    "\n",
    "multiply_nums(\"2, 3\") ➞ 6\n",
    "\n",
    "multiply_nums(\"1, 2, 3, 4\") ➞ 24\n",
    "\n",
    "multiply_nums(\"54, 75, 453, 0\") ➞ 0\n",
    "\n",
    "multiply_nums(\"10, -2\") ➞ -20"
   ]
  },
  {
   "cell_type": "code",
   "execution_count": 10,
   "metadata": {},
   "outputs": [
    {
     "name": "stdout",
     "output_type": "stream",
     "text": [
      "multiply_nums(2,3) ➞ 6\n",
      "multiply_nums(1, 2, 3, 4) ➞ 24\n",
      "multiply_nums(54, 75, 453, 0) ➞ 0\n",
      "multiply_nums(10, -2) ➞ -20\n"
     ]
    }
   ],
   "source": [
    "import numpy as np\n",
    "\n",
    "def multiply_nums(inp):\n",
    "    inp_list = [int(ele) for ele in inp.split(',')]\n",
    "    out = np.prod(inp_list)\n",
    "    print(f\"multiply_nums({inp}) ➞ {out}\")\n",
    "    \n",
    "multiply_nums(\"2,3\")\n",
    "multiply_nums(\"1, 2, 3, 4\")\n",
    "multiply_nums(\"54, 75, 453, 0\")\n",
    "multiply_nums(\"10, -2\")"
   ]
  },
  {
   "cell_type": "code",
   "execution_count": null,
   "metadata": {},
   "outputs": [],
   "source": []
  },
  {
   "cell_type": "markdown",
   "metadata": {},
   "source": [
    "3.Create a function that squares every digit of a number.\n",
    "\n",
    "Examples:\n",
    "\n",
    "square_digits(9119) ➞ 811181\n",
    "\n",
    "square_digits(2483) ➞ 416649\n",
    "\n",
    "square_digits(3212) ➞ 9414\n",
    "\n",
    "Notes:\n",
    "The function receives an integer and must return an integer."
   ]
  },
  {
   "cell_type": "code",
   "execution_count": 22,
   "metadata": {},
   "outputs": [
    {
     "name": "stdout",
     "output_type": "stream",
     "text": [
      "square_digits(9119) ➞ 811181\n",
      "square_digits(2483) ➞ 416649\n",
      "square_digits(3212) ➞ 9414\n"
     ]
    }
   ],
   "source": [
    "def square_digits(inp):\n",
    "    inp = str(inp) \n",
    "    out = ''.join([str(int(val)**2) for val in inp])\n",
    "    print(f\"square_digits({inp}) ➞ {out}\")\n",
    "    \n",
    "square_digits(9119)\n",
    "square_digits(2483)\n",
    "square_digits(3212)"
   ]
  },
  {
   "cell_type": "code",
   "execution_count": null,
   "metadata": {},
   "outputs": [],
   "source": []
  },
  {
   "cell_type": "markdown",
   "metadata": {},
   "source": [
    "4.Create a function that sorts a list and removes all duplicate items from it.\n",
    "\n",
    "Examples:\n",
    "\n",
    "setify([1, 3, 3, 5, 5]) ➞ [1, 3, 5]\n",
    "\n",
    "setify([4, 4, 4, 4]) ➞ [4]\n",
    "\n",
    "setify([5, 7, 8, 9, 10, 15]) ➞ [5, 7, 8, 9, 10, 15]\n",
    "\n",
    "setify([3, 3, 3, 2, 1]) ➞ [1, 2, 3]"
   ]
  },
  {
   "cell_type": "code",
   "execution_count": 25,
   "metadata": {},
   "outputs": [
    {
     "name": "stdout",
     "output_type": "stream",
     "text": [
      "setify([1, 3, 3, 5, 5]) ➞ [1, 3, 5]\n",
      "setify([4, 4, 4, 4]) ➞ [4]\n",
      "setify([5, 7, 8, 9, 10, 15]) ➞ [5, 7, 8, 9, 10, 15]\n",
      "setify([3, 3, 3, 2, 1]) ➞ [1, 2, 3]\n"
     ]
    }
   ],
   "source": [
    "def setify(inp):\n",
    "    out = sorted(list(set(inp)))\n",
    "    print(f\"setify({inp}) ➞ {out}\")\n",
    "    \n",
    "setify([1, 3, 3, 5, 5])\n",
    "setify([4,4,4,4])\n",
    "setify([5, 7, 8, 9, 10, 15])\n",
    "setify([3, 3, 3, 2, 1])"
   ]
  },
  {
   "cell_type": "code",
   "execution_count": null,
   "metadata": {},
   "outputs": [],
   "source": []
  },
  {
   "cell_type": "markdown",
   "metadata": {},
   "source": [
    "5.Create a function that returns the mean of all digits.\n",
    "\n",
    "Examples:\n",
    "\n",
    "mean(42) ➞ 3\n",
    "\n",
    "mean(12345) ➞ 3\n",
    "\n",
    "mean(666) ➞ 6"
   ]
  },
  {
   "cell_type": "code",
   "execution_count": 28,
   "metadata": {},
   "outputs": [
    {
     "name": "stdout",
     "output_type": "stream",
     "text": [
      "mean(42) ➞ 3\n",
      "mean(12345) ➞ 3\n",
      "mean(666) ➞ 6\n"
     ]
    }
   ],
   "source": [
    "import numpy as np\n",
    "\n",
    "def mean(inp):\n",
    "    inp_list = [int(ele) for ele in str(inp)]\n",
    "    mean = np.mean(inp_list)\n",
    "    print(f\"mean({inp}) ➞ {int(mean)}\")\n",
    "    \n",
    "mean(42)\n",
    "mean(12345)\n",
    "mean(666)"
   ]
  },
  {
   "cell_type": "code",
   "execution_count": null,
   "metadata": {},
   "outputs": [],
   "source": []
  }
 ],
 "metadata": {
  "kernelspec": {
   "display_name": "Python 3",
   "language": "python",
   "name": "python3"
  },
  "language_info": {
   "codemirror_mode": {
    "name": "ipython",
    "version": 3
   },
   "file_extension": ".py",
   "mimetype": "text/x-python",
   "name": "python",
   "nbconvert_exporter": "python",
   "pygments_lexer": "ipython3",
   "version": "3.7.4"
  }
 },
 "nbformat": 4,
 "nbformat_minor": 2
}
