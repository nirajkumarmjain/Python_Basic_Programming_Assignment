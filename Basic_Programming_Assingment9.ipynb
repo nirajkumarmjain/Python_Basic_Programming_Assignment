{
 "cells": [
  {
   "cell_type": "markdown",
   "metadata": {},
   "source": [
    "1. Write a Python program to check if the given number is a Disarium Number?"
   ]
  },
  {
   "cell_type": "code",
   "execution_count": 22,
   "metadata": {},
   "outputs": [
    {
     "name": "stdout",
     "output_type": "stream",
     "text": [
      "Your input 518 is a Disarium number\n"
     ]
    }
   ],
   "source": [
    "def disariumNumber(n):\n",
    "    inp = str(n)\n",
    "    l = len((inp))\n",
    "    total = 0\n",
    "    for val in range(0,len(inp)):\n",
    "        total += int(inp[val])**(int(val)+1)\n",
    "    if inp == str(total):\n",
    "        print(f\"Your input {inp} is a Disarium number\")\n",
    "    else:\n",
    "        print(f\"Your input {inp} is not a Disarium number\")\n",
    "        \n",
    "disariumNumber(518)"
   ]
  },
  {
   "cell_type": "markdown",
   "metadata": {},
   "source": []
  },
  {
   "cell_type": "markdown",
   "metadata": {},
   "source": [
    "2. Write a Python program to print all disarium numbers between 1 to 100?"
   ]
  },
  {
   "cell_type": "code",
   "execution_count": 24,
   "metadata": {},
   "outputs": [
    {
     "name": "stdout",
     "output_type": "stream",
     "text": [
      "The Disarium numbers between 1 to 100 are: [1, 2, 3, 4, 5, 6, 7, 8, 9, 89]\n"
     ]
    }
   ],
   "source": [
    "def disariumNumber():\n",
    "    out = []\n",
    "    for r in range(1,100):\n",
    "        inp = str(r)\n",
    "        l = len((inp))\n",
    "        total = 0\n",
    "        for val in range(0,len(inp)):\n",
    "            total += int(inp[val])**(int(val)+1)\n",
    "        if inp == str(total):\n",
    "            out.append(r)\n",
    "    print(f\"The Disarium numbers between 1 to 100 are: {out}\")\n",
    "\n",
    "disariumNumber()"
   ]
  },
  {
   "cell_type": "code",
   "execution_count": null,
   "metadata": {},
   "outputs": [],
   "source": []
  },
  {
   "cell_type": "markdown",
   "metadata": {},
   "source": [
    "3. Write a Python program to check if the given number is Happy Number?"
   ]
  },
  {
   "cell_type": "code",
   "execution_count": 15,
   "metadata": {},
   "outputs": [
    {
     "name": "stdout",
     "output_type": "stream",
     "text": [
      "100\n",
      "happy number\n"
     ]
    }
   ],
   "source": [
    "def isHappy(n):    \n",
    "    r = s = 0;    \n",
    "    while(n > 0):    \n",
    "        r = n%10    \n",
    "        s += r**2  \n",
    "        n //= 10    \n",
    "    return s  \n",
    "        \n",
    "n = int(input())    \n",
    "res = n;    \n",
    "     \n",
    "while(res != 1 and res != 4):    \n",
    "    res = isHappy(res)    \n",
    "     \n",
    "if(res == 1):    \n",
    "    print(\"happy number\")\n",
    "elif(res == 4):    \n",
    "    print(\"not a happy number\") "
   ]
  },
  {
   "cell_type": "markdown",
   "metadata": {},
   "source": []
  },
  {
   "cell_type": "markdown",
   "metadata": {},
   "source": [
    "4. Write a Python program to print all happy numbers between 1 and 100?"
   ]
  },
  {
   "cell_type": "code",
   "execution_count": 25,
   "metadata": {},
   "outputs": [
    {
     "name": "stdout",
     "output_type": "stream",
     "text": [
      "Happy numbers between 1 and 100 are: [1, 7, 10, 13, 19, 23, 28, 31, 32, 44, 49, 68, 70, 79, 82, 86, 91, 94, 97, 100]\n"
     ]
    }
   ],
   "source": [
    "def isHappy(n):    \n",
    "    r = s = 0;    \n",
    "    while(n > 0):    \n",
    "        r = n%10    \n",
    "        s += r**2  \n",
    "        n //= 10    \n",
    "    return s  \n",
    "\n",
    "out = []\n",
    "for i in range(1, 101):     \n",
    "    res = i;    \n",
    "\n",
    "    while(res != 1 and res != 4):    \n",
    "        res = isHappy(res)    \n",
    "\n",
    "    if(res == 1):    \n",
    "        out.append(i)\n",
    "    elif(res == 4):    \n",
    "        pass\n",
    "print(\"Happy numbers between 1 and 100 are: \"+ str(out))"
   ]
  },
  {
   "cell_type": "code",
   "execution_count": null,
   "metadata": {},
   "outputs": [],
   "source": []
  },
  {
   "cell_type": "markdown",
   "metadata": {},
   "source": [
    "5. Write a Python program to determine whether the given number is a Harshad Number?"
   ]
  },
  {
   "cell_type": "code",
   "execution_count": 44,
   "metadata": {},
   "outputs": [
    {
     "name": "stdout",
     "output_type": "stream",
     "text": [
      "The 156 is a Harshad number\n"
     ]
    }
   ],
   "source": [
    "def isHarshad(a):\n",
    "    num = a\n",
    "    n = num\n",
    "    rem = sum = 0    \n",
    "    while(num > 0):    \n",
    "        rem = num%10    \n",
    "        sum += rem  \n",
    "        num //= 10    \n",
    "     \n",
    "    if(n%sum == 0):    \n",
    "        print(f\"The {n} is a Harshad number\")\n",
    "    else:    \n",
    "        print(f\"The {n} is a Not a Harshad number\") \n",
    "        \n",
    "isHarshad(156)"
   ]
  },
  {
   "cell_type": "code",
   "execution_count": null,
   "metadata": {},
   "outputs": [],
   "source": []
  },
  {
   "cell_type": "markdown",
   "metadata": {},
   "source": [
    "6. Write a Python program to print all pronic numbers between 1 and 100?"
   ]
  },
  {
   "cell_type": "code",
   "execution_count": 45,
   "metadata": {},
   "outputs": [
    {
     "name": "stdout",
     "output_type": "stream",
     "text": [
      "Harshad numbers between 1 and 100 are: [1, 2, 3, 4, 5, 6, 7, 8, 9, 10, 12, 18, 20, 21, 24, 27, 30, 36, 40, 42, 45, 48, 50, 54, 60, 63, 70, 72, 80, 81, 84, 90, 100]\n"
     ]
    }
   ],
   "source": [
    "def isHarshad():\n",
    "    out = []\n",
    "    for i in range(1,101):\n",
    "        num = i\n",
    "        n = num\n",
    "        rem = sum = 0    \n",
    "        while(num > 0):    \n",
    "            rem = num%10    \n",
    "            sum += rem  \n",
    "            num //= 10    \n",
    "\n",
    "        if(n%sum == 0):    \n",
    "            out.append(i)\n",
    "        else:    \n",
    "            pass\n",
    "    print(\"Harshad numbers between 1 and 100 are: \"+ str(out))\n",
    "\n",
    "isHarshad()"
   ]
  }
 ],
 "metadata": {
  "kernelspec": {
   "display_name": "Python 3",
   "language": "python",
   "name": "python3"
  },
  "language_info": {
   "codemirror_mode": {
    "name": "ipython",
    "version": 3
   },
   "file_extension": ".py",
   "mimetype": "text/x-python",
   "name": "python",
   "nbconvert_exporter": "python",
   "pygments_lexer": "ipython3",
   "version": "3.7.4"
  }
 },
 "nbformat": 4,
 "nbformat_minor": 2
}
