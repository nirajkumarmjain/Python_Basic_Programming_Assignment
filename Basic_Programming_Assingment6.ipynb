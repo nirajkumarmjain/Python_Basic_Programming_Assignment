{
 "cells": [
  {
   "cell_type": "markdown",
   "metadata": {},
   "source": [
    "# Basic_Programming_Assingment6"
   ]
  },
  {
   "cell_type": "code",
   "execution_count": 10,
   "metadata": {},
   "outputs": [
    {
     "name": "stdout",
     "output_type": "stream",
     "text": [
      "1. Write a Python Program to Display Fibonacci Sequence Using Recursion?\n",
      "\n",
      "Solution:\n",
      "\n",
      "Enter how many fibonacci sequence to be generated using recurssion function: 10\n",
      "The Fibonacci sequence generated is : [0, 1, 1, 2, 3, 5, 8, 13, 21, 34]\n"
     ]
    }
   ],
   "source": [
    "print(\"1. Write a Python Program to Display Fibonacci Sequence Using Recursion?\\n\")\n",
    "print(\"Solution:\\n\")\n",
    "\n",
    "inp=int(input(\"Enter how many fibonacci sequence to be generated using recurssion function: \"))\n",
    "out=[]\n",
    "\n",
    "def recurFibo(n):\n",
    "    \"\"\"This is recursive Fibo Function\"\"\"\n",
    "    if n <= 1:\n",
    "        return(n)\n",
    "    else:\n",
    "        return(recurFibo(n-1) + recurFibo(n-2))\n",
    "            \n",
    "if inp <= 0:\n",
    "    print(\"Please enter valid integer: \")\n",
    "else:\n",
    "    for i in range(inp):\n",
    "        out.append(recurFibo(i))\n",
    "    print(\"The Fibonacci sequence generated is :\", out)"
   ]
  },
  {
   "cell_type": "code",
   "execution_count": 11,
   "metadata": {},
   "outputs": [
    {
     "name": "stdout",
     "output_type": "stream",
     "text": [
      "2. Write a Python Program to Find Factorial of Number Using Recursion?\n",
      "\n",
      "Solution:\n",
      "\n",
      "Enter a number for which factorial needs to be determited using recurssion function: 5\n",
      "Factorial of 5 is 120\n"
     ]
    }
   ],
   "source": [
    "print(\"2. Write a Python Program to Find Factorial of Number Using Recursion?\\n\")\n",
    "print(\"Solution:\\n\")\n",
    "\n",
    "inp=int(input(\"Enter a number for which factorial needs to be determited using recurssion function: \"))\n",
    "\n",
    "def recurFactorial(n):\n",
    "    if n == 1:\n",
    "        return n\n",
    "    else:\n",
    "        return n*recurFactorial(n-1)\n",
    "    \n",
    "if inp < 0:\n",
    "    print(\"Factorial for negative number cannot be determined\")\n",
    "elif inp == 0:\n",
    "    print(\"Factorial of 0 is 1\")\n",
    "else:\n",
    "    print(\"Factorial of {} is {}\".format(inp,recurFactorial(inp)))"
   ]
  },
  {
   "cell_type": "code",
   "execution_count": 24,
   "metadata": {},
   "outputs": [
    {
     "name": "stdout",
     "output_type": "stream",
     "text": [
      "3. Write a Python Program to calculate your Body Mass Index?\n",
      "\n",
      "Solution:\n",
      "\n",
      "Enter your height in cm: 170\n",
      "Enter your weight in kg: 82\n",
      "For your height 170.0 cm and weight 82.0 kg, the calculated BMI is 28.37\n"
     ]
    }
   ],
   "source": [
    "print(\"3. Write a Python Program to calculate your Body Mass Index?\\n\")\n",
    "print(\"Solution:\\n\")\n",
    "\n",
    "h,w=float(input(\"Enter your height in cm: \")),float(input(\"Enter your weight in kg: \"))\n",
    "if h<0 or w<0:\n",
    "    print(\"Please enter valid height & weight\")\n",
    "else:\n",
    "    bmi = w/(h/100)**2\n",
    "    print(\"For your height {0} cm and weight {1} kg, the calculated BMI is {2}\".format(h,w,round(bmi,2)))\n"
   ]
  },
  {
   "cell_type": "code",
   "execution_count": 16,
   "metadata": {},
   "outputs": [
    {
     "name": "stdout",
     "output_type": "stream",
     "text": [
      "4. Write a Python Program to calculate the natural logarithm of any number?\n",
      "\n",
      "Solution:\n",
      "\n",
      "Enter a number for which natural logarithm needs to be determited: 10\n",
      "The natural logarithm for 10 number is 2.302585092994046\n"
     ]
    }
   ],
   "source": [
    "print(\"4. Write a Python Program to calculate the natural logarithm of any number?\\n\")\n",
    "print(\"Solution:\\n\")\n",
    "\n",
    "import math\n",
    "inp=int(input(\"Enter a number for which natural logarithm needs to be determited: \"))\n",
    "print(\"The natural logarithm for {0} number is {1}\".format(inp,math.log(inp)))\n"
   ]
  },
  {
   "cell_type": "code",
   "execution_count": 22,
   "metadata": {},
   "outputs": [
    {
     "name": "stdout",
     "output_type": "stream",
     "text": [
      "5. Write a Python Program for cube sum of first n natural numbers?\n",
      "\n",
      "Solution:\n",
      "\n",
      "Enter a number upto which cube sum of all natural number needs to be calculated: 7\n",
      "The cube sum of first 7 natural numbers is 784\n"
     ]
    }
   ],
   "source": [
    "print(\"5. Write a Python Program for cube sum of first n natural numbers?\\n\")\n",
    "print(\"Solution:\\n\")\n",
    "\n",
    "inp=int(input(\"Enter a number upto which cube sum of all natural number needs to be calculated: \"))\n",
    "\n",
    "def cubeSum(inp):\n",
    "    sumTotal = 0\n",
    "    for i in range(1,inp+1):\n",
    "        sumTotal = sumTotal + (i*i*i)\n",
    "    return sumTotal\n",
    "\n",
    "if inp < 0:\n",
    "    print(\"Please enter valid postive integer\")\n",
    "else:\n",
    "    print(\"The cube sum of first {0} natural numbers is {1}\".format(inp,cubeSum(inp)))"
   ]
  }
 ],
 "metadata": {
  "kernelspec": {
   "display_name": "Python 3",
   "language": "python",
   "name": "python3"
  },
  "language_info": {
   "codemirror_mode": {
    "name": "ipython",
    "version": 3
   },
   "file_extension": ".py",
   "mimetype": "text/x-python",
   "name": "python",
   "nbconvert_exporter": "python",
   "pygments_lexer": "ipython3",
   "version": "3.7.4"
  }
 },
 "nbformat": 4,
 "nbformat_minor": 2
}
