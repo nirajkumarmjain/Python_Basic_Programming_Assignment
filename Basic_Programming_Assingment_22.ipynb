{
 "cells": [
  {
   "cell_type": "markdown",
   "metadata": {},
   "source": [
    "## Basic_Programming_Assingment_22"
   ]
  },
  {
   "cell_type": "markdown",
   "metadata": {},
   "source": [
    "1.Create a function that takes three parameters where:\n",
    "x is the start of the range (inclusive).\n",
    "y is the end of the range (inclusive).\n",
    "n is the divisor to be checked against.\n",
    "\n",
    "Return an ordered list with numbers in the range that are divisible by the third parameter n. Return an empty list if there are no numbers that are divisible by n. Examples:\n",
    "`list_operation(1, 10, 3) ➞ [3, 6, 9]\n",
    "list_operation(7, 9, 2) ➞ [8]\n",
    "list_operation(15, 20, 7) ➞ []`"
   ]
  },
  {
   "cell_type": "code",
   "execution_count": 5,
   "metadata": {},
   "outputs": [
    {
     "name": "stdout",
     "output_type": "stream",
     "text": [
      "list_operation(1, 10, 3) ➞ [3, 6, 9]\n",
      "list_operation(7, 9, 2) ➞ [8]\n",
      "list_operation(15, 20, 7) ➞ []\n"
     ]
    }
   ],
   "source": [
    "def list_operation(start,end,divisor):\n",
    "    out = []\n",
    "    for val in range(start,end+1):\n",
    "        if val%divisor == 0:\n",
    "            out.append(val)\n",
    "    print(f\"list_operation{start,end,divisor} ➞ {out}\")\n",
    "    \n",
    "list_operation(1, 10, 3)\n",
    "list_operation(7, 9, 2)\n",
    "list_operation(15, 20, 7)"
   ]
  },
  {
   "cell_type": "code",
   "execution_count": null,
   "metadata": {},
   "outputs": [],
   "source": []
  },
  {
   "cell_type": "markdown",
   "metadata": {},
   "source": [
    "2.Create a function that takes in two lists and returns True if the second list follows the first list by one element, and False otherwise. In other words, determine if the second list is the first list shifted to the right by 1.\n",
    "Examples:\n",
    "\n",
    "`simon_says([1, 2], [5, 1]) ➞ True\n",
    "simon_says([1, 2], [5, 5]) ➞ False\n",
    "simon_says([1, 2, 3, 4, 5], [0, 1, 2, 3, 4]) ➞ True\n",
    "simon_says([1, 2, 3, 4, 5], [5, 5, 1, 2, 3]) ➞ False`"
   ]
  },
  {
   "cell_type": "code",
   "execution_count": 15,
   "metadata": {},
   "outputs": [
    {
     "name": "stdout",
     "output_type": "stream",
     "text": [
      "simon_says([1, 2], [5, 1]) ➞ True\n",
      "simon_says([1, 2], [5, 5]) ➞ False\n",
      "simon_says([1, 2, 3, 4, 5], [0, 1, 2, 3, 4]) ➞ True\n",
      "simon_says([1, 2, 3, 4, 5], [5, 5, 1, 2, 3]) ➞ False\n"
     ]
    }
   ],
   "source": [
    "def simon_says(list_1,list_2):\n",
    "    out = bool()\n",
    "    if len(list_1) == len(list_2):\n",
    "        for idx in range(0,len(list_1)-1):\n",
    "            if list_1[idx] == list_2[idx+1]:\n",
    "                out = True\n",
    "            else:\n",
    "                out = False\n",
    "        print(f'simon_says{list_1,list_2} ➞ {out}')\n",
    "    else:\n",
    "        print(\"The two input list are of different size\")\n",
    "simon_says([1, 2], [5, 1])\n",
    "simon_says([1, 2], [5, 5])\n",
    "simon_says([1, 2, 3, 4, 5], [0, 1, 2, 3, 4])\n",
    "simon_says([1, 2, 3, 4, 5], [5, 5, 1, 2, 3]) "
   ]
  },
  {
   "cell_type": "code",
   "execution_count": 16,
   "metadata": {},
   "outputs": [],
   "source": []
  },
  {
   "cell_type": "markdown",
   "metadata": {},
   "source": [
    "3.A group of friends have decided to start a secret society. The name will be the first letter of each of their names, sorted in a alphabetical order ? Create a function that takes in a list of names and returns the name of the secret society ?\n",
    "\n",
    "Examples:\n",
    "\n",
    "`society_name([\"Adam\", \"Sarah\", \"Malcolm\"]) ➞ \"AMS\"\n",
    "society_name([\"Harry\", \"Newt\", \"Luna\", \"Cho\"]) ➞ \"CHLN\"\n",
    "society_name([\"Phoebe\", \"Chandler\", \"Rachel\", \"Ross\", \"Monica\", \"Joey\"]) ➞ \"CJMPRR\"`"
   ]
  },
  {
   "cell_type": "code",
   "execution_count": 22,
   "metadata": {},
   "outputs": [
    {
     "name": "stdout",
     "output_type": "stream",
     "text": [
      "society_name(['Adam', 'Sarah', 'Malcolm']) ➞ AMS\n",
      "society_name(['Harry', 'Newt', 'Luna', 'Cho']) ➞ CHLN\n",
      "society_name(['Phoebe', 'Chandler', 'Rachel', 'Ross', 'Monica', 'Joey']) ➞ CJMPRR\n"
     ]
    }
   ],
   "source": [
    "def society_name(inp):\n",
    "    out = ''\n",
    "    for ele in inp:\n",
    "        out += ele[0]\n",
    "    out = ''.join(sorted(out))\n",
    "    print(f\"society_name({inp}) ➞ {out}\")\n",
    "    \n",
    "society_name([\"Adam\", \"Sarah\", \"Malcolm\"])\n",
    "society_name([\"Harry\", \"Newt\", \"Luna\", \"Cho\"])\n",
    "society_name([\"Phoebe\", \"Chandler\", \"Rachel\", \"Ross\", \"Monica\", \"Joey\"])"
   ]
  },
  {
   "cell_type": "code",
   "execution_count": null,
   "metadata": {},
   "outputs": [],
   "source": []
  },
  {
   "cell_type": "markdown",
   "metadata": {},
   "source": [
    "4.An isogram is a word that has no duplicate letters. Create a function that takes a string and returns either True or False depending on whether or not it's an \"isogram\".\n",
    "\n",
    "Examples:\n",
    "\n",
    "`is_isogram(\"Algorism\") ➞ True\n",
    "is_isogram(\"PasSword\") ➞ False\n",
    "Not case sensitive.   \n",
    "is_isogram(\"Consecutive\") ➞ False`\n",
    "\n",
    "Notes:\n",
    "Ignore letter case (should not be case sensitive).\n",
    "All test cases contain valid one word strings"
   ]
  },
  {
   "cell_type": "code",
   "execution_count": 40,
   "metadata": {},
   "outputs": [
    {
     "name": "stdout",
     "output_type": "stream",
     "text": [
      "is_isogram(Algorism) ➞ True\n",
      "is_isogram(PasSword) ➞ False\n",
      "is_isogram(Consecutive) ➞ False\n"
     ]
    }
   ],
   "source": [
    "def is_isogram(inp):\n",
    "    out = inp.lower()\n",
    "    if len(out) == len(set(out)):\n",
    "        print(f\"is_isogram({inp}) ➞ {True}\")\n",
    "    else:\n",
    "        print(f\"is_isogram({inp}) ➞ {False}\")\n",
    "\n",
    "is_isogram(\"Algorism\")\n",
    "is_isogram(\"PasSword\")\n",
    "is_isogram(\"Consecutive\")"
   ]
  },
  {
   "cell_type": "code",
   "execution_count": null,
   "metadata": {},
   "outputs": [],
   "source": []
  },
  {
   "cell_type": "markdown",
   "metadata": {},
   "source": [
    "5.Create a function that takes a string and returns True or False, depending on whether the characters are in order or not ?\n",
    "\n",
    "Examples:\n",
    "\n",
    "`is_in_order(\"abc\") ➞ True\n",
    "is_in_order(\"edabit\") ➞ False\n",
    "is_in_order(\"123\") ➞ True\n",
    "is_in_order(\"xyzz\") ➞ True`"
   ]
  },
  {
   "cell_type": "code",
   "execution_count": 43,
   "metadata": {},
   "outputs": [
    {
     "name": "stdout",
     "output_type": "stream",
     "text": [
      "is_in_order(abc) ➞ True\n",
      "is_in_order(edabit) ➞ False\n",
      "is_in_order(123) ➞ True\n",
      "is_in_order(xyzz) ➞ True\n"
     ]
    }
   ],
   "source": [
    "def is_in_order(inp):\n",
    "    sorted_inp = ''.join(sorted(inp))\n",
    "    if inp == sorted_inp:\n",
    "        print(f\"is_in_order({inp}) ➞ {True}\")\n",
    "    else:\n",
    "        print(f\"is_in_order({inp}) ➞ {False}\")\n",
    "        \n",
    "is_in_order(\"abc\")\n",
    "is_in_order(\"edabit\")\n",
    "is_in_order(\"123\")\n",
    "is_in_order(\"xyzz\")"
   ]
  },
  {
   "cell_type": "code",
   "execution_count": null,
   "metadata": {},
   "outputs": [],
   "source": []
  }
 ],
 "metadata": {
  "kernelspec": {
   "display_name": "Python 3",
   "language": "python",
   "name": "python3"
  },
  "language_info": {
   "codemirror_mode": {
    "name": "ipython",
    "version": 3
   },
   "file_extension": ".py",
   "mimetype": "text/x-python",
   "name": "python",
   "nbconvert_exporter": "python",
   "pygments_lexer": "ipython3",
   "version": "3.7.4"
  }
 },
 "nbformat": 4,
 "nbformat_minor": 2
}
