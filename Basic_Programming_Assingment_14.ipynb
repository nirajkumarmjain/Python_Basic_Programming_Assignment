{
 "cells": [
  {
   "cell_type": "markdown",
   "metadata": {},
   "source": [
    "## Basic_Programming_Assingment_14"
   ]
  },
  {
   "cell_type": "markdown",
   "metadata": {},
   "source": [
    "1. Define a class with a generator which can iterate the numbers, which are divisible by 7, between a given range 0 and n."
   ]
  },
  {
   "cell_type": "code",
   "execution_count": 1,
   "metadata": {},
   "outputs": [
    {
     "name": "stdout",
     "output_type": "stream",
     "text": [
      "0 7 14 21 28 35 42 49 56 63 70 77 84 91 98 105 112 119 126 133 140 147 "
     ]
    }
   ],
   "source": [
    "class number_generator:\n",
    "    def __init__(self,inp_num):\n",
    "        self.inp_num = inp_num\n",
    "    \n",
    "    def generate(self):\n",
    "        for val in range(0,self.inp_num + 1):\n",
    "            if val % 7 == 0:\n",
    "                yield val\n",
    "                \n",
    "out = number_generator(150)\n",
    "for val in out.generate():\n",
    "    print(val, end=' ')"
   ]
  },
  {
   "cell_type": "markdown",
   "metadata": {},
   "source": []
  },
  {
   "cell_type": "markdown",
   "metadata": {},
   "source": [
    "2.Write a program to compute the frequency of the words from the input. The output should output after sorting the key alphanumerically.\n",
    "Suppose the following input is supplied to the program:\n",
    "New to Python or choosing between Python 2 and Python 3? Read Python 2 or Python 3.\n",
    "Then, the output should be:\n",
    "2:2 3.:1 3?:1 New:1 Python:5 Read:1 and:1 between:1 choosing:1 or:2 to:1"
   ]
  },
  {
   "cell_type": "code",
   "execution_count": 3,
   "metadata": {},
   "outputs": [
    {
     "name": "stdout",
     "output_type": "stream",
     "text": [
      "Enter the input string: New to Python or choosing between Python 2 and Python 3? Read Python 2 or Python 3\n",
      "2:2 3:1 3?:1 New:1 Python:5 Read:1 and:1 between:1 choosing:1 or:2 to:1 "
     ]
    }
   ],
   "source": [
    "def word_frequency():\n",
    "    inp = input(\"Enter the input string: \")\n",
    "    freq = {}\n",
    "    for ele in inp.split(' '):\n",
    "        if freq.get(ele) == None:\n",
    "            freq[ele] = 1\n",
    "        else:\n",
    "            freq[ele] += 1\n",
    "            \n",
    "    for ele in sorted(freq):\n",
    "        print(f\"{ele}:{freq[ele]}\",end= ' ')\n",
    "        \n",
    "word_frequency()\n",
    "        "
   ]
  },
  {
   "cell_type": "markdown",
   "metadata": {},
   "source": []
  },
  {
   "cell_type": "markdown",
   "metadata": {},
   "source": [
    "3.Define a class Person and its two child classes: Male and Female. All classes have a method \"getGender\" which can print \"Male\" for Male class and \"Female\" for Female class. ?"
   ]
  },
  {
   "cell_type": "code",
   "execution_count": 4,
   "metadata": {},
   "outputs": [
    {
     "name": "stdout",
     "output_type": "stream",
     "text": [
      "Male\n",
      "Female\n"
     ]
    }
   ],
   "source": [
    "class Person():\n",
    "    def getGender():\n",
    "        pass\n",
    "    \n",
    "class Male(Person):\n",
    "    def getGender():\n",
    "        print(\"Male\")\n",
    "        \n",
    "class Female(Person):\n",
    "    def getGender():\n",
    "        print(\"Female\")\n",
    "\n",
    "Male.getGender()\n",
    "Female.getGender()"
   ]
  },
  {
   "cell_type": "code",
   "execution_count": null,
   "metadata": {},
   "outputs": [],
   "source": []
  },
  {
   "cell_type": "markdown",
   "metadata": {},
   "source": [
    "4.Please write a program to generate all sentences where subject is in [\"I\", \"You\"] and verb is in [\"Play\", \"Love\"] and the object is in [\"Hockey\",\"Football\"] ?"
   ]
  },
  {
   "cell_type": "code",
   "execution_count": 7,
   "metadata": {},
   "outputs": [
    {
     "name": "stdout",
     "output_type": "stream",
     "text": [
      "I Play Hockey\n",
      "I Play Football\n",
      "I Love Hockey\n",
      "I Love Football\n",
      "You Play Hockey\n",
      "You Play Football\n",
      "You Love Hockey\n",
      "You Love Football\n"
     ]
    }
   ],
   "source": [
    "def generate_sentence():\n",
    "    subject = [\"I\", \"You\"]\n",
    "    verb = [\"Play\", \"Love\"]\n",
    "    obj =  [\"Hockey\",\"Football\"]\n",
    "    for s in subject:\n",
    "        for v in verb:\n",
    "            for o in obj:\n",
    "                print(f\"{s} {v} {o}\")\n",
    "\n",
    "                \n",
    "generate_sentence()"
   ]
  },
  {
   "cell_type": "code",
   "execution_count": null,
   "metadata": {},
   "outputs": [],
   "source": []
  },
  {
   "cell_type": "markdown",
   "metadata": {},
   "source": [
    "5. Please write a program to compress and decompress the string \"hello world!hello world!hello world!hello world!\" ?"
   ]
  },
  {
   "cell_type": "code",
   "execution_count": 14,
   "metadata": {},
   "outputs": [
    {
     "name": "stdout",
     "output_type": "stream",
     "text": [
      "hel2o world!hel2o world!hel2o world!hel2o world!\n",
      "hello world!hello world!hello world!hello world!\n"
     ]
    }
   ],
   "source": [
    "def compress(inp):\n",
    "    out = inp[0]\n",
    "    cnt = 1\n",
    "    for ele in range(len(inp)-1):\n",
    "        if inp[ele] == inp[ele+1]:\n",
    "            cnt +=1\n",
    "        else:\n",
    "            if cnt > 1:\n",
    "                out += str(cnt)\n",
    "            out += inp[ele+1]\n",
    "            cnt = 1\n",
    "    if cnt > 1:\n",
    "        out += str(cnt)            \n",
    "    print(out)\n",
    "\n",
    "\n",
    "def decompress(inp):\n",
    "    out = ''\n",
    "    for ele in range(len(inp)):\n",
    "        if inp[ele].isdigit():\n",
    "            out += out[-1]*(int(inp[ele])-1)\n",
    "        else:\n",
    "            out += inp[ele]\n",
    "    print(out)\n",
    "\n",
    "compress(\"hello world!hello world!hello world!hello world!\")\n",
    "decompress(\"hel2o world!hel2o world!hel2o world!hel2o world!\")"
   ]
  },
  {
   "cell_type": "code",
   "execution_count": null,
   "metadata": {},
   "outputs": [],
   "source": []
  },
  {
   "cell_type": "markdown",
   "metadata": {},
   "source": [
    "6.Please write a binary search function which searches an item in a sorted list. The function should return the index of element to be searched in the list ?"
   ]
  },
  {
   "cell_type": "code",
   "execution_count": 47,
   "metadata": {},
   "outputs": [
    {
     "name": "stdout",
     "output_type": "stream",
     "text": [
      "\n",
      "The input list is : [10, 20, 80, 30, 60, 50, 110, 100, 130, 170]\n",
      "\n",
      "The sorted list is : [10, 20, 30, 50, 60, 80, 100, 110, 130, 170]\n",
      "Input Element 8 not in the list\n",
      "\n",
      "The input list is : [10, 20, 80, 30, 60, 50, 110, 100, 130, 170]\n",
      "\n",
      "The sorted list is : [10, 20, 30, 50, 60, 80, 100, 110, 130, 170]\n",
      "Input Element 100 is at index 6 of the sorted list\n"
     ]
    }
   ],
   "source": [
    "inp_list = [10, 20, 80, 30, 60, 50, 110, 100, 130, 170]\n",
    "def binary_search(in_list,in_num):\n",
    "    print(f\"\\nThe input list is : {in_list}\\n\")\n",
    "    low = 0\n",
    "    high = len(in_list)-1\n",
    "    in_list = sorted(in_list)\n",
    "    print(f\"The sorted list is : {in_list}\")\n",
    "    while low <= high:\n",
    "        mid = (high+low)//2\n",
    "        if in_list[mid] < in_num:\n",
    "            low = mid+1\n",
    "        elif in_list[mid] > in_num:\n",
    "            high = mid-1\n",
    "        else:\n",
    "            return f'Input Element {in_num} is at index {mid} of the sorted list'\n",
    "    else:\n",
    "        return f'Input Element {in_num} not in the list'\n",
    "    \n",
    "print(binary_search(inp_list,8))\n",
    "print(binary_search(inp_list,100))"
   ]
  }
 ],
 "metadata": {
  "kernelspec": {
   "display_name": "Python 3",
   "language": "python",
   "name": "python3"
  },
  "language_info": {
   "codemirror_mode": {
    "name": "ipython",
    "version": 3
   },
   "file_extension": ".py",
   "mimetype": "text/x-python",
   "name": "python",
   "nbconvert_exporter": "python",
   "pygments_lexer": "ipython3",
   "version": "3.7.4"
  }
 },
 "nbformat": 4,
 "nbformat_minor": 2
}
