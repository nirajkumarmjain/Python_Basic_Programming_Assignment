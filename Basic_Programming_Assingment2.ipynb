{
 "cells": [
  {
   "cell_type": "markdown",
   "metadata": {},
   "source": [
    "# Python Programming Assignment_2"
   ]
  },
  {
   "cell_type": "code",
   "execution_count": 3,
   "metadata": {},
   "outputs": [
    {
     "name": "stdout",
     "output_type": "stream",
     "text": [
      "1. Write a Python program to convert kilometers to miles?\n",
      "\n",
      "Solution:\n",
      "This program converts kilometers(KM) to miles(M):\n",
      "Enter kilometers(KM) value: 1\n",
      "You entered 1.0 kilometers(KM) and converted mile value is 0.6215040397762586 miles(M)\n"
     ]
    }
   ],
   "source": [
    "print(\"1. Write a Python program to convert kilometers to miles?\\n\")\n",
    "print(\"Solution:\")\n",
    "print(\"This program converts kilometers(KM) to miles(M):\")\n",
    "k=float(input(\"Enter kilometers(KM) value: \"))\n",
    "if(k>0):\n",
    "    print(\"You entered {} kilometers(KM) and converted mile value is {} miles(M)\".format(k,k/1.609))\n",
    "else:\n",
    "    print(\"Enter valid kilometers(KM) value > 0\")"
   ]
  },
  {
   "cell_type": "code",
   "execution_count": 15,
   "metadata": {},
   "outputs": [
    {
     "name": "stdout",
     "output_type": "stream",
     "text": [
      "2. Write a Python program to convert Celsius to Fahrenheit?\n",
      "\n",
      "Solution:\n",
      "This program converts Celsius to Fahrenheit:\n",
      "Enter Celsius value: 0\n",
      "You entered 0°C and converted Fahrenheit value is 32.0°F\n"
     ]
    }
   ],
   "source": [
    "print(\"2. Write a Python program to convert Celsius to Fahrenheit?\\n\")\n",
    "print(\"Solution:\")\n",
    "print(\"This program converts Celsius to Fahrenheit:\")\n",
    "c=int(input(\"Enter Celsius value: \"))\n",
    "print(\"You entered \"+ str(c) + chr(176) +\"C and converted Fahrenheit value is \" +str((c*(9/5)+32)) + chr(176) +\"F\")"
   ]
  },
  {
   "cell_type": "code",
   "execution_count": 28,
   "metadata": {},
   "outputs": [
    {
     "name": "stdout",
     "output_type": "stream",
     "text": [
      "3. Write a Python program to display calendar?\n",
      "\n",
      "For required calendar,\n",
      "Enter the year :2021\n",
      "Enter the month :12\n",
      "   December 2021\n",
      "Mo Tu We Th Fr Sa Su\n",
      "       1  2  3  4  5\n",
      " 6  7  8  9 10 11 12\n",
      "13 14 15 16 17 18 19\n",
      "20 21 22 23 24 25 26\n",
      "27 28 29 30 31\n",
      "\n"
     ]
    }
   ],
   "source": [
    "import calendar\n",
    "print(\"3. Write a Python program to display calendar?\\n\")\n",
    "y,m=int(input(\"For required calendar,\\nEnter the year :\")),int(input(\"Enter the month :\"))\n",
    "if(y>0 and (m > 0 and m < 13)):\n",
    "    print(calendar.month(y,m))\n",
    "else:\n",
    "    print(\"Enter valid Year & Month\")"
   ]
  },
  {
   "cell_type": "code",
   "execution_count": 29,
   "metadata": {},
   "outputs": [
    {
     "name": "stdout",
     "output_type": "stream",
     "text": [
      "4. Write a Python program to solve quadratic equation?\n",
      "\n",
      "Quadratic equation formula is : ax**2 + bx + c = 0\n",
      "Enter a:1\n",
      "Enter b:4\n",
      "Enter c:2\n",
      "The roots are:\n",
      "(-3.414213562373095+0j)\n",
      "(-0.5857864376269049+0j)\n"
     ]
    }
   ],
   "source": [
    "import cmath\n",
    "print(\"4. Write a Python program to solve quadratic equation?\\n\")\n",
    "print(\"Quadratic equation formula is : ax**2 + bx + c = 0\")\n",
    "a,b,c=float(input(\"Enter a:\")),float(input(\"Enter b:\")),float(input(\"Enter c:\"))\n",
    "if a==0:\n",
    "    print(\"Invalid equation!\")\n",
    "else:\n",
    "    d = (b * b) - (4 * a * c) #discriminant\n",
    "    x = cmath.sqrt(d)\n",
    "    s1= (-b-x)/(2*a)\n",
    "    s2= (-b+x)/(2*a)\n",
    "    print('The roots are:')\n",
    "    print(s1)\n",
    "    print(s2)\n",
    "    "
   ]
  },
  {
   "cell_type": "code",
   "execution_count": 30,
   "metadata": {},
   "outputs": [
    {
     "name": "stdout",
     "output_type": "stream",
     "text": [
      "5. Write a Python program to swap two variables without temp variable?\n",
      "This program swaps two variables without temp variable:\n",
      "Enter a:1\n",
      "Enter b:2\n",
      "Before Swap: The value of a is 1 and b is 2\n",
      "After Swap: The value of a is 2 and b is 1\n"
     ]
    }
   ],
   "source": [
    "print(\"5. Write a Python program to swap two variables without temp variable?\")\n",
    "print(\"This program swaps two variables without temp variable:\")\n",
    "a,b=int(input(\"Enter a:\")),int(input(\"Enter b:\"))\n",
    "print(\"Before Swap: The value of a is {} and b is {}\".format(a,b))\n",
    "a,b=b,a\n",
    "print(\"After Swap: The value of a is {} and b is {}\".format(a,b))"
   ]
  }
 ],
 "metadata": {
  "kernelspec": {
   "display_name": "Python 3",
   "language": "python",
   "name": "python3"
  },
  "language_info": {
   "codemirror_mode": {
    "name": "ipython",
    "version": 3
   },
   "file_extension": ".py",
   "mimetype": "text/x-python",
   "name": "python",
   "nbconvert_exporter": "python",
   "pygments_lexer": "ipython3",
   "version": "3.7.4"
  }
 },
 "nbformat": 4,
 "nbformat_minor": 2
}
