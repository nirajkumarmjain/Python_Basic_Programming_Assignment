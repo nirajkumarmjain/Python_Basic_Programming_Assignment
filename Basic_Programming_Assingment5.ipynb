{
 "cells": [
  {
   "cell_type": "markdown",
   "metadata": {},
   "source": [
    "# Basic_Programming_Assingment5"
   ]
  },
  {
   "cell_type": "code",
   "execution_count": 12,
   "metadata": {},
   "outputs": [
    {
     "name": "stdout",
     "output_type": "stream",
     "text": [
      "1.Write a Python Program to Find LCM?\n",
      "\n",
      "Solution:\n",
      "\n",
      "Enter two numbers for which LCM needs to be determited: \n",
      "a: 3\n",
      "b :7\n",
      "LCM of 3 and 7 is 21\n"
     ]
    }
   ],
   "source": [
    "print(\"1.Write a Python Program to Find LCM?\\n\")\n",
    "print(\"Solution:\\n\")\n",
    "\n",
    "print(\"Enter two numbers for which LCM needs to be determited: \")\n",
    "inp,inp1=int(input(\"a: \")),int(input(\"b :\"))\n",
    "\n",
    "def lcm(a,b):\n",
    "    \"This function dermines LCM\"\n",
    "    if a <0 or b <0:\n",
    "        return \"Enter valid integer numbers\"\n",
    "    else:\n",
    "        if a > b:\n",
    "            big = a #LCM can be bigger of 2 numbers or greater than that. So checking which number is big of 2 input number\n",
    "        else:\n",
    "            big = b\n",
    "\n",
    "        while(True): #Infinite loop for logic to determine LCM\n",
    "            if((big%a == 0) and (big%b==0)):\n",
    "                lcm=big\n",
    "                break\n",
    "            big = big+1\n",
    "\n",
    "        print(\"LCM of {0} and {1} is {2}\".format(a,b,lcm))\n",
    "        \n",
    "lcm(inp,inp1)\n",
    "    "
   ]
  },
  {
   "cell_type": "code",
   "execution_count": 18,
   "metadata": {},
   "outputs": [
    {
     "name": "stdout",
     "output_type": "stream",
     "text": [
      "2.Write a Python Program to Find HCF?\n",
      "\n",
      "Solution:\n",
      "\n",
      "Enter two numbers for which HCF needs to be determited: \n",
      "a: 54\n",
      "b :24\n",
      "HCF of 54 and 24 is 6\n"
     ]
    }
   ],
   "source": [
    "print(\"2.Write a Python Program to Find HCF?\\n\")\n",
    "print(\"Solution:\\n\")\n",
    "\n",
    "print(\"Enter two numbers for which HCF needs to be determited: \")\n",
    "inp,inp1=int(input(\"a: \")),int(input(\"b :\"))\n",
    "\n",
    "def hcf(a,b):\n",
    "    \"This function dermines HCF\"\n",
    "    if a <0 or b <0:\n",
    "        return \"Enter valid integer numbers\"\n",
    "    else:\n",
    "        if a < b:\n",
    "            small = a #HCF can be smaller or equal of 2 numbers. So determining which is small of 2 input number\n",
    "        else:\n",
    "            small = b\n",
    "\n",
    "        for i in range(1,small+1): \n",
    "            if((a%i == 0) and (b%i==0)):\n",
    "                hcf=i\n",
    "           \n",
    "        print(\"HCF of {0} and {1} is {2}\".format(a,b,hcf))\n",
    "        \n",
    "hcf(inp,inp1)\n",
    "    "
   ]
  },
  {
   "cell_type": "code",
   "execution_count": 19,
   "metadata": {},
   "outputs": [
    {
     "name": "stdout",
     "output_type": "stream",
     "text": [
      "3.Write a Python Program to Convert Decimal to Binary, Octal and Hexadecimal?\n",
      "\n",
      "Solution:\n",
      "\n",
      "Enter a decimal number for which Binary, Octal and Hexadecimal conversion to be displayed: 2\n",
      "The decimal number 2 can be represented in Binary, Octal and Hexadecimal as following: \n",
      "0b10 in binary.\n",
      "0o2 in octal.\n",
      "0x2 in hexadecimal.\n"
     ]
    }
   ],
   "source": [
    "print(\"3.Write a Python Program to Convert Decimal to Binary, Octal and Hexadecimal?\\n\")\n",
    "print(\"Solution:\\n\")\n",
    "inp=int(input(\"Enter a decimal number for which Binary, Octal and Hexadecimal conversion to be displayed: \"))\n",
    "\n",
    "print(\"The decimal number {0} can be represented in Binary, Octal and Hexadecimal as following: \".format(inp))\n",
    "print(bin(inp), \"in binary.\") #Using built-in function\n",
    "print(oct(inp), \"in octal.\") #Using built-in function\n",
    "print(hex(inp), \"in hexadecimal.\") #Using built-in function\n"
   ]
  },
  {
   "cell_type": "code",
   "execution_count": 23,
   "metadata": {},
   "outputs": [
    {
     "name": "stdout",
     "output_type": "stream",
     "text": [
      "4.Write a Python Program To Find ASCII value of a character?\n",
      "\n",
      "Solution:\n",
      "\n",
      "Enter an input for which ASCII value needs to be determined : a\n",
      "The ASCII value of 'a' is 97\n"
     ]
    }
   ],
   "source": [
    "print(\"4.Write a Python Program To Find ASCII value of a character?\\n\")\n",
    "print(\"Solution:\\n\")\n",
    "inp=input(\"Enter an input for which ASCII value needs to be determined : \")\n",
    "\n",
    "print(\"The ASCII value of '\" + inp + \"' is\", ord(inp)) #Using built-in function"
   ]
  },
  {
   "cell_type": "code",
   "execution_count": 25,
   "metadata": {},
   "outputs": [
    {
     "name": "stdout",
     "output_type": "stream",
     "text": [
      "5.Write a Python Program to Make a Simple Calculator with 4 basic mathematical operations?\n",
      "\n",
      "Solution:\n",
      "\n",
      "Select an operation.\n",
      "1.Addition\n",
      "2.Subtraction\n",
      "3.Multiplication\n",
      "4.Division\n",
      "Select any of (1/2/3/4): 3\n",
      "Enter first number: 4\n",
      "Enter second number: 5\n",
      "4.0 * 5.0 = 20.0\n",
      "Want to continue (yes/no): no\n"
     ]
    }
   ],
   "source": [
    "print(\"5.Write a Python Program to Make a Simple Calculator with 4 basic mathematical operations?\\n\")\n",
    "print(\"Solution:\\n\")\n",
    "\n",
    "\n",
    "def addition(x, y):\n",
    "    \"\"\"This function adds two numbers\"\"\"\n",
    "    return x + y\n",
    "\n",
    "\n",
    "def subtraction(x, y):\n",
    "    \"\"\"This function subtracts two numbers\"\"\"\n",
    "    return x - y\n",
    "\n",
    "\n",
    "def multiplication(x, y):\n",
    "    \"\"\"This function multiplies two numbers\"\"\"\n",
    "    return x * y\n",
    "\n",
    "def division(x, y):\n",
    "    \"\"\"This function divides two numbers\"\"\"\n",
    "    return x / y\n",
    "\n",
    "\n",
    "print(\"Select an operation.\\n1.Addition\\n2.Subtraction\\n3.Multiplication\\n4.Division\")\n",
    "\n",
    "while True:\n",
    "    # take input from the user\n",
    "    inp = input(\"Select any of (1/2/3/4): \")\n",
    "\n",
    "    if inp in ('1', '2', '3', '4'):\n",
    "        num1 = float(input(\"Enter first number: \"))\n",
    "        num2 = float(input(\"Enter second number: \"))\n",
    "\n",
    "        if inp == '1':\n",
    "            print(num1, \"+\", num2, \"=\", addition(num1, num2))\n",
    "\n",
    "        elif inp == '2':\n",
    "            print(num1, \"-\", num2, \"=\", subtraction(num1, num2))\n",
    "\n",
    "        elif inp == '3':\n",
    "            print(num1, \"*\", num2, \"=\", multiplication(num1, num2))\n",
    "\n",
    "        elif inp == '4':\n",
    "            print(num1, \"/\", num2, \"=\", division(num1, num2))\n",
    "\n",
    "        check = input(\"Want to continue (yes/no): \")\n",
    "        if check == \"no\":\n",
    "              break\n",
    "    \n",
    "    else:\n",
    "        print(\"Invalid selection\")"
   ]
  }
 ],
 "metadata": {
  "kernelspec": {
   "display_name": "Python 3",
   "language": "python",
   "name": "python3"
  },
  "language_info": {
   "codemirror_mode": {
    "name": "ipython",
    "version": 3
   },
   "file_extension": ".py",
   "mimetype": "text/x-python",
   "name": "python",
   "nbconvert_exporter": "python",
   "pygments_lexer": "ipython3",
   "version": "3.7.4"
  }
 },
 "nbformat": 4,
 "nbformat_minor": 2
}
