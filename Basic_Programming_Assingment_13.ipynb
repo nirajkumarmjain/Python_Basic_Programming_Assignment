{
 "cells": [
  {
   "cell_type": "markdown",
   "metadata": {},
   "source": [
    "# Basic_Programming_Assingment_13"
   ]
  },
  {
   "cell_type": "markdown",
   "metadata": {},
   "source": [
    "1. Write a program that calculates and prints the value according to the given formula:"
   ]
  },
  {
   "cell_type": "code",
   "execution_count": 15,
   "metadata": {},
   "outputs": [
    {
     "name": "stdout",
     "output_type": "stream",
     "text": [
      "The input was [100, 150, 180] and output is [18, 22, 24]\n"
     ]
    }
   ],
   "source": [
    "import numpy as np\n",
    "\n",
    "def SquareRoot(inp):\n",
    "    \"\"\"Give input as list\"\"\"\n",
    "    C = 50 #Initializing Constant C\n",
    "    H = 30 #Initializing Constant H\n",
    "    inp_List = inp\n",
    "    out_List = []\n",
    "    for D in inp_List:\n",
    "        Q = np.sqrt((2*C*D)/H)\n",
    "        out_List.append(int(Q))\n",
    "    print(f\"The input was {inp_List} and output is {out_List}\")\n",
    "\n",
    "SquareRoot([100,150,180])\n",
    "    "
   ]
  },
  {
   "cell_type": "code",
   "execution_count": null,
   "metadata": {},
   "outputs": [],
   "source": []
  },
  {
   "cell_type": "markdown",
   "metadata": {},
   "source": [
    "2: Write a program which takes 2 digits, X,Y as input and generates a 2-dimensional array. The element value in the i-th row and j-th column of the array should be i*j."
   ]
  },
  {
   "cell_type": "code",
   "execution_count": 16,
   "metadata": {},
   "outputs": [
    {
     "name": "stdout",
     "output_type": "stream",
     "text": [
      "Enter the No of Rows:4\n",
      "Enter the No of Columns:5\n",
      "[[0, 0, 0, 0, 0], [0, 1, 2, 3, 4], [0, 2, 4, 6, 8], [0, 3, 6, 9, 12]]\n"
     ]
    }
   ],
   "source": [
    "def generateArray():\n",
    "    in_x = int(input('Enter the No of Rows:'))\n",
    "    in_y = int(input('Enter the No of Columns:')) \n",
    "    out_array = []\n",
    "    for ele in range(in_x):\n",
    "        out_array.insert(in_x,[])\n",
    "        for sub_ele in range(in_y):\n",
    "            out_array[ele].append(ele*sub_ele)\n",
    "    print(out_array)\n",
    "    \n",
    "generateArray()"
   ]
  },
  {
   "cell_type": "code",
   "execution_count": null,
   "metadata": {},
   "outputs": [],
   "source": []
  },
  {
   "cell_type": "markdown",
   "metadata": {},
   "source": [
    "3. Write a program that accepts a comma separated sequence of words as input and prints the words in a comma-separated sequence after sorting them alphabetically.\n",
    "\n",
    "Suppose the following input is supplied to the program:\n",
    "\n",
    "without,hello,bag,world\n",
    "\n",
    "Then, the output should be:\n",
    "\n",
    "bag,hello,without,world"
   ]
  },
  {
   "cell_type": "code",
   "execution_count": 23,
   "metadata": {},
   "outputs": [
    {
     "name": "stdout",
     "output_type": "stream",
     "text": [
      "Enter the input words: without,hello,bag,world\n",
      "The input was without,hello,bag,world and the output is bag,hello,without,world\n"
     ]
    }
   ],
   "source": [
    "def sortWords():\n",
    "    inp_arr = input(\"Enter the input words: \")\n",
    "    inp_arr_1 = inp_arr.split(',')\n",
    "    out_arr = ','.join(sorted(inp_arr_1))\n",
    "    print(f\"The input was {inp_arr} and the output is {out_arr}\")\n",
    "    \n",
    "sortWords()"
   ]
  },
  {
   "cell_type": "code",
   "execution_count": null,
   "metadata": {},
   "outputs": [],
   "source": []
  },
  {
   "cell_type": "markdown",
   "metadata": {},
   "source": [
    "4. Write a program that accepts a sequence of whitespace separated words as input and prints the words after removing all duplicate words and sorting them alphanumerically.\n",
    "\n",
    "Suppose the following input is supplied to the program:\n",
    "\n",
    "hello world and practice makes perfect and hello world again\n",
    "\n",
    "Then, the output should be:\n",
    "\n",
    "again and hello makes perfect practice world\n"
   ]
  },
  {
   "cell_type": "code",
   "execution_count": 25,
   "metadata": {},
   "outputs": [
    {
     "name": "stdout",
     "output_type": "stream",
     "text": [
      "Enter the input string: hello world and practice makes perfect and hello world again\n",
      "The output is : again and hello makes perfect practice world\n"
     ]
    }
   ],
   "source": [
    "def sortAlphabetically():\n",
    "    inp = input(\"Enter the input string: \")\n",
    "    inp_list = inp.split(' ')\n",
    "    unique_Words = sorted(list(set(inp_list)))\n",
    "    out = ' '.join(unique_Words)\n",
    "    print(f\"The output is : {out}\")\n",
    "    \n",
    "sortAlphabetically()"
   ]
  },
  {
   "cell_type": "code",
   "execution_count": null,
   "metadata": {},
   "outputs": [],
   "source": []
  },
  {
   "cell_type": "markdown",
   "metadata": {},
   "source": [
    "5. Write a program that accepts a sentence and calculate the number of letters and digits.\n",
    "\n",
    "Suppose the following input is supplied to the program:\n",
    "\n",
    "hello world! 123\n",
    "\n",
    "Then, the output should be:\n",
    "LETTERS 10\n",
    "DIGITS 3"
   ]
  },
  {
   "cell_type": "code",
   "execution_count": 53,
   "metadata": {},
   "outputs": [
    {
     "name": "stdout",
     "output_type": "stream",
     "text": [
      "Enter the input String: hello world! 123\n",
      "Letters: 10 and Digits :3\n"
     ]
    }
   ],
   "source": [
    "import string \n",
    "def countLettersDigits():\n",
    "    letters = list(string.ascii_lowercase) + list(string.ascii_uppercase) #Creates list of Upper & Lower case Alphabets\n",
    "    digits = [str(i) for i in range(0,10)] #Creates List of numbers converted as string\n",
    "    letters_Cnt = 0\n",
    "    digits_Cnt = 0\n",
    "    input_str = input(\"Enter the input String: \")\n",
    "    for val in input_str:\n",
    "        if val in letters:\n",
    "            letters_Cnt += 1\n",
    "        if val in digits:\n",
    "            digits_Cnt += 1\n",
    "            \n",
    "    print(f\"Letters: {letters_Cnt} and Digits :{digits_Cnt}\")\n",
    "    \n",
    "countLettersDigits()"
   ]
  },
  {
   "cell_type": "code",
   "execution_count": null,
   "metadata": {},
   "outputs": [],
   "source": []
  },
  {
   "cell_type": "markdown",
   "metadata": {},
   "source": [
    "6 . A website requires the users to input username and password to register. Write a program to check the validity of password input by users.\n",
    "Following are the criteria for checking the password:\n",
    "1. At least 1 letter between [a-z]\n",
    "2. At least 1 number between [0-9]\n",
    "3. At least 1 letter between [A-Z]\n",
    "4. At least 1 character from [$#@]\n",
    "5. Minimum length of transaction password: 6\n",
    "6. Maximum length of transaction password: 12\n",
    "\n",
    "Your program should accept a sequence of comma separated passwords and will check them according to the above criteria. Passwords that match the criteria are to be printed, each separated by a comma.\n",
    "\n",
    "Example\n",
    "If the following passwords are given as input to the program:\n",
    "ABd1234@1,a F1#,2w3E*,2We3345\n",
    "\n",
    "Then, the output of the program should be:\n",
    "ABd1234@1\n"
   ]
  },
  {
   "cell_type": "code",
   "execution_count": 70,
   "metadata": {},
   "outputs": [
    {
     "name": "stdout",
     "output_type": "stream",
     "text": [
      "Enter the passwords: ABd1234@1,a F1#,2w3E*,2We3345\n",
      "The password satisfying the criterias are :['ABd1234@1']\n"
     ]
    }
   ],
   "source": [
    "import string\n",
    "inp = input(\"Enter the passwords: \")\n",
    "\n",
    "def validatePassword(inp):\n",
    "    inp_List = inp.split(',')\n",
    "    out_List = []\n",
    "    letters = list(string.ascii_lowercase) + list(string.ascii_uppercase) #Creates list of Upper & Lower case Alphabets\n",
    "    digits = [str(i) for i in range(0,10)] #Creates List of numbers converted as string\n",
    "    special_Char = ['$','#','@']\n",
    "    for pwd in inp_List:\n",
    "        if len(pwd) >=6 and len(pwd) <=12:\n",
    "            if any(val for val in pwd if val in letters):\n",
    "                if any(val for val in pwd if val in digits):\n",
    "                    if any(val for val in pwd if val in special_Char):\n",
    "                        out_List.append(pwd)\n",
    "    print(f\"The password satisfying the criterias are :{out_List}\")\n",
    "    \n",
    "validatePassword(inp)"
   ]
  }
 ],
 "metadata": {
  "kernelspec": {
   "display_name": "Python 3",
   "language": "python",
   "name": "python3"
  },
  "language_info": {
   "codemirror_mode": {
    "name": "ipython",
    "version": 3
   },
   "file_extension": ".py",
   "mimetype": "text/x-python",
   "name": "python",
   "nbconvert_exporter": "python",
   "pygments_lexer": "ipython3",
   "version": "3.7.4"
  }
 },
 "nbformat": 4,
 "nbformat_minor": 2
}
